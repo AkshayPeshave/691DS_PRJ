{
 "cells": [
  {
   "cell_type": "markdown",
   "metadata": {},
   "source": [
    "# Importing required packages"
   ]
  },
  {
   "cell_type": "code",
   "execution_count": 66,
   "metadata": {
    "collapsed": false
   },
   "outputs": [],
   "source": [
    "import pandas as pd\n",
    "import sys\n",
    "import math"
   ]
  },
  {
   "cell_type": "code",
   "execution_count": 68,
   "metadata": {
    "collapsed": false
   },
   "outputs": [],
   "source": [
    "%matplotlib inline\n",
    "import matplotlib\n",
    "matplotlib.style.use('ggplot')"
   ]
  },
  {
   "cell_type": "code",
   "execution_count": 102,
   "metadata": {
    "collapsed": false
   },
   "outputs": [],
   "source": [
    "import sklearn as skl\n"
   ]
  },
  {
   "cell_type": "markdown",
   "metadata": {},
   "source": [
    "# Loading the 2011 Housing Market Typology dataset and retrieving basic data stats"
   ]
  },
  {
   "cell_type": "code",
   "execution_count": 27,
   "metadata": {
    "collapsed": true
   },
   "outputs": [],
   "source": [
    "dataFrame = pd.read_csv('../dat/Housing_Market_Typology_2011.csv')"
   ]
  },
  {
   "cell_type": "code",
   "execution_count": 55,
   "metadata": {
    "collapsed": false,
    "scrolled": true
   },
   "outputs": [
    {
     "name": "stdout",
     "output_type": "stream",
     "text": [
      "Data Shape (#col x #row) = 11 x 710\n"
     ]
    }
   ],
   "source": [
    "print('Data Shape (#col x #row) = '+ str(len(dataFrame.columns))+ ' x ' + str(len(dataFrame)))"
   ]
  },
  {
   "cell_type": "code",
   "execution_count": 21,
   "metadata": {
    "collapsed": false,
    "scrolled": true
   },
   "outputs": [
    {
     "data": {
      "text/html": [
       "<div>\n",
       "<table border=\"1\" class=\"dataframe\">\n",
       "  <thead>\n",
       "    <tr style=\"text-align: right;\">\n",
       "      <th></th>\n",
       "      <th>blockGroup</th>\n",
       "      <th>marketCategory</th>\n",
       "      <th>sales20092010</th>\n",
       "      <th>salesPriceCoefficientVariance</th>\n",
       "      <th>commercialResidentialLandRatio</th>\n",
       "      <th>unitsPerSquareMile</th>\n",
       "      <th>residentialPermits</th>\n",
       "      <th>vacantLots</th>\n",
       "      <th>vacantHouseNotices</th>\n",
       "      <th>foreclosureFilings</th>\n",
       "      <th>medianSalesPrice20092010</th>\n",
       "      <th>ownerOccupied</th>\n",
       "    </tr>\n",
       "  </thead>\n",
       "  <tbody>\n",
       "    <tr>\n",
       "      <th>0</th>\n",
       "      <td>101001</td>\n",
       "      <td>Regional Choice</td>\n",
       "      <td>79</td>\n",
       "      <td>0.40</td>\n",
       "      <td>15.25</td>\n",
       "      <td>15225.00</td>\n",
       "      <td>0%</td>\n",
       "      <td>0%</td>\n",
       "      <td>0%</td>\n",
       "      <td>3%</td>\n",
       "      <td>$238000.00</td>\n",
       "      <td>78%</td>\n",
       "    </tr>\n",
       "    <tr>\n",
       "      <th>1</th>\n",
       "      <td>101002</td>\n",
       "      <td>Regional Choice</td>\n",
       "      <td>69</td>\n",
       "      <td>0.35</td>\n",
       "      <td>3.59</td>\n",
       "      <td>11975.00</td>\n",
       "      <td>1%</td>\n",
       "      <td>1%</td>\n",
       "      <td>1%</td>\n",
       "      <td>5%</td>\n",
       "      <td>$235000.00</td>\n",
       "      <td>69.4%</td>\n",
       "    </tr>\n",
       "    <tr>\n",
       "      <th>2</th>\n",
       "      <td>101003</td>\n",
       "      <td>Regional Choice</td>\n",
       "      <td>47</td>\n",
       "      <td>0.41</td>\n",
       "      <td>5.08</td>\n",
       "      <td>6100.00</td>\n",
       "      <td>0%</td>\n",
       "      <td>3%</td>\n",
       "      <td>0%</td>\n",
       "      <td>3%</td>\n",
       "      <td>$299000.00</td>\n",
       "      <td>78.6%</td>\n",
       "    </tr>\n",
       "    <tr>\n",
       "      <th>3</th>\n",
       "      <td>102001</td>\n",
       "      <td>Middle Market Choice</td>\n",
       "      <td>51</td>\n",
       "      <td>0.49</td>\n",
       "      <td>0.00</td>\n",
       "      <td>12300.00</td>\n",
       "      <td>1%</td>\n",
       "      <td>0%</td>\n",
       "      <td>2%</td>\n",
       "      <td>8%</td>\n",
       "      <td>$159900.00</td>\n",
       "      <td>68.8%</td>\n",
       "    </tr>\n",
       "    <tr>\n",
       "      <th>4</th>\n",
       "      <td>102002</td>\n",
       "      <td>Regional Choice</td>\n",
       "      <td>32</td>\n",
       "      <td>0.46</td>\n",
       "      <td>0.00</td>\n",
       "      <td>14100.00</td>\n",
       "      <td>0%</td>\n",
       "      <td>0%</td>\n",
       "      <td>2%</td>\n",
       "      <td>5%</td>\n",
       "      <td>$199694.00</td>\n",
       "      <td>77.2%</td>\n",
       "    </tr>\n",
       "    <tr>\n",
       "      <th>5</th>\n",
       "      <td>102003</td>\n",
       "      <td>Regional Choice</td>\n",
       "      <td>67</td>\n",
       "      <td>0.32</td>\n",
       "      <td>24577.62</td>\n",
       "      <td>16400.00</td>\n",
       "      <td>0%</td>\n",
       "      <td>0%</td>\n",
       "      <td>0%</td>\n",
       "      <td>3%</td>\n",
       "      <td>$230000.00</td>\n",
       "      <td>77.4%</td>\n",
       "    </tr>\n",
       "    <tr>\n",
       "      <th>6</th>\n",
       "      <td>102004</td>\n",
       "      <td>Middle Market Choice</td>\n",
       "      <td>33</td>\n",
       "      <td>0.48</td>\n",
       "      <td>0.00</td>\n",
       "      <td>5016.67</td>\n",
       "      <td>1%</td>\n",
       "      <td>0%</td>\n",
       "      <td>1%</td>\n",
       "      <td>7%</td>\n",
       "      <td>$143250.00</td>\n",
       "      <td>69.2%</td>\n",
       "    </tr>\n",
       "    <tr>\n",
       "      <th>7</th>\n",
       "      <td>103001</td>\n",
       "      <td>Regional Choice</td>\n",
       "      <td>54</td>\n",
       "      <td>0.42</td>\n",
       "      <td>12.93</td>\n",
       "      <td>2204.55</td>\n",
       "      <td>0%</td>\n",
       "      <td>3%</td>\n",
       "      <td>1%</td>\n",
       "      <td>4%</td>\n",
       "      <td>$232500.00</td>\n",
       "      <td>76.6%</td>\n",
       "    </tr>\n",
       "    <tr>\n",
       "      <th>8</th>\n",
       "      <td>103002</td>\n",
       "      <td>Regional Choice</td>\n",
       "      <td>87</td>\n",
       "      <td>0.46</td>\n",
       "      <td>22.04</td>\n",
       "      <td>22000.00</td>\n",
       "      <td>1%</td>\n",
       "      <td>0%</td>\n",
       "      <td>2%</td>\n",
       "      <td>6%</td>\n",
       "      <td>$189900.00</td>\n",
       "      <td>41.3%</td>\n",
       "    </tr>\n",
       "    <tr>\n",
       "      <th>9</th>\n",
       "      <td>104001</td>\n",
       "      <td>Regional Choice</td>\n",
       "      <td>61</td>\n",
       "      <td>0.38</td>\n",
       "      <td>1.61</td>\n",
       "      <td>8383.33</td>\n",
       "      <td>1%</td>\n",
       "      <td>1%</td>\n",
       "      <td>0%</td>\n",
       "      <td>3%</td>\n",
       "      <td>$200000.00</td>\n",
       "      <td>61.5%</td>\n",
       "    </tr>\n",
       "  </tbody>\n",
       "</table>\n",
       "</div>"
      ],
      "text/plain": [
       "   blockGroup        marketCategory  sales20092010  \\\n",
       "0      101001       Regional Choice             79   \n",
       "1      101002       Regional Choice             69   \n",
       "2      101003       Regional Choice             47   \n",
       "3      102001  Middle Market Choice             51   \n",
       "4      102002       Regional Choice             32   \n",
       "5      102003       Regional Choice             67   \n",
       "6      102004  Middle Market Choice             33   \n",
       "7      103001       Regional Choice             54   \n",
       "8      103002       Regional Choice             87   \n",
       "9      104001       Regional Choice             61   \n",
       "\n",
       "   salesPriceCoefficientVariance   commercialResidentialLandRatio  \\\n",
       "0                            0.40                           15.25   \n",
       "1                            0.35                            3.59   \n",
       "2                            0.41                            5.08   \n",
       "3                            0.49                            0.00   \n",
       "4                            0.46                            0.00   \n",
       "5                            0.32                        24577.62   \n",
       "6                            0.48                            0.00   \n",
       "7                            0.42                           12.93   \n",
       "8                            0.46                           22.04   \n",
       "9                            0.38                            1.61   \n",
       "\n",
       "   unitsPerSquareMile residentialPermits vacantLots vacantHouseNotices  \\\n",
       "0            15225.00                 0%         0%                 0%   \n",
       "1            11975.00                 1%         1%                 1%   \n",
       "2             6100.00                 0%         3%                 0%   \n",
       "3            12300.00                 1%         0%                 2%   \n",
       "4            14100.00                 0%         0%                 2%   \n",
       "5            16400.00                 0%         0%                 0%   \n",
       "6             5016.67                 1%         0%                 1%   \n",
       "7             2204.55                 0%         3%                 1%   \n",
       "8            22000.00                 1%         0%                 2%   \n",
       "9             8383.33                 1%         1%                 0%   \n",
       "\n",
       "  foreclosureFilings medianSalesPrice20092010 ownerOccupied  \n",
       "0                 3%               $238000.00           78%  \n",
       "1                 5%               $235000.00         69.4%  \n",
       "2                 3%               $299000.00         78.6%  \n",
       "3                 8%               $159900.00         68.8%  \n",
       "4                 5%               $199694.00         77.2%  \n",
       "5                 3%               $230000.00         77.4%  \n",
       "6                 7%               $143250.00         69.2%  \n",
       "7                 4%               $232500.00         76.6%  \n",
       "8                 6%               $189900.00         41.3%  \n",
       "9                 3%               $200000.00         61.5%  "
      ]
     },
     "execution_count": 21,
     "metadata": {},
     "output_type": "execute_result"
    }
   ],
   "source": [
    "dataFrame.head(10)"
   ]
  },
  {
   "cell_type": "code",
   "execution_count": 54,
   "metadata": {
    "collapsed": true
   },
   "outputs": [],
   "source": [
    "dataFrame.drop('blockGroup', axis=1, inplace=True)"
   ]
  },
  {
   "cell_type": "code",
   "execution_count": 56,
   "metadata": {
    "collapsed": false,
    "scrolled": true
   },
   "outputs": [
    {
     "data": {
      "text/plain": [
       "marketCategory                     object\n",
       "sales20092010                       int64\n",
       "salesPriceCoefficientVariance     float64\n",
       "commercialResidentialLandRatio    float64\n",
       "unitsPerSquareMile                float64\n",
       "residentialPermits                float64\n",
       "vacantLots                        float64\n",
       "vacantHouseNotices                float64\n",
       "foreclosureFilings                float64\n",
       "medianSalesPrice20092010          float64\n",
       "ownerOccupied                     float64\n",
       "dtype: object"
      ]
     },
     "execution_count": 56,
     "metadata": {},
     "output_type": "execute_result"
    }
   ],
   "source": [
    "dataFrame.dtypes"
   ]
  },
  {
   "cell_type": "markdown",
   "metadata": {},
   "source": [
    "# Cleansing data and dtypes"
   ]
  },
  {
   "cell_type": "code",
   "execution_count": 59,
   "metadata": {
    "collapsed": true
   },
   "outputs": [],
   "source": [
    "dataFrame['marketCategory']=dataFrame['marketCategory'].astype('category')"
   ]
  },
  {
   "cell_type": "code",
   "execution_count": 35,
   "metadata": {
    "collapsed": false
   },
   "outputs": [],
   "source": [
    "dataFrame['residentialPermits']=dataFrame['residentialPermits'].replace( '[\\%]','', regex=True ).astype(float)"
   ]
  },
  {
   "cell_type": "code",
   "execution_count": 29,
   "metadata": {
    "collapsed": true
   },
   "outputs": [],
   "source": [
    "dataFrame['vacantLots']=dataFrame['vacantLots'].replace( '[\\%]','', regex=True ).astype(float)"
   ]
  },
  {
   "cell_type": "code",
   "execution_count": 30,
   "metadata": {
    "collapsed": true
   },
   "outputs": [],
   "source": [
    "dataFrame['vacantHouseNotices']=dataFrame['vacantHouseNotices'].replace( '[\\%]','', regex=True ).astype(float)"
   ]
  },
  {
   "cell_type": "code",
   "execution_count": 31,
   "metadata": {
    "collapsed": true
   },
   "outputs": [],
   "source": [
    "dataFrame['foreclosureFilings']=dataFrame['foreclosureFilings'].replace( '[\\%]','', regex=True ).astype(float)"
   ]
  },
  {
   "cell_type": "code",
   "execution_count": 32,
   "metadata": {
    "collapsed": true
   },
   "outputs": [],
   "source": [
    "dataFrame['medianSalesPrice20092010']=dataFrame['medianSalesPrice20092010'].replace( '[\\$]','', regex=True ).astype(float)"
   ]
  },
  {
   "cell_type": "code",
   "execution_count": 33,
   "metadata": {
    "collapsed": true
   },
   "outputs": [],
   "source": [
    "dataFrame['ownerOccupied']=dataFrame['ownerOccupied'].replace( '[\\%]','', regex=True ).astype(float)"
   ]
  },
  {
   "cell_type": "code",
   "execution_count": 60,
   "metadata": {
    "collapsed": false
   },
   "outputs": [
    {
     "data": {
      "text/plain": [
       "marketCategory                    category\n",
       "sales20092010                        int64\n",
       "salesPriceCoefficientVariance      float64\n",
       "commercialResidentialLandRatio     float64\n",
       "unitsPerSquareMile                 float64\n",
       "residentialPermits                 float64\n",
       "vacantLots                         float64\n",
       "vacantHouseNotices                 float64\n",
       "foreclosureFilings                 float64\n",
       "medianSalesPrice20092010           float64\n",
       "ownerOccupied                      float64\n",
       "dtype: object"
      ]
     },
     "execution_count": 60,
     "metadata": {},
     "output_type": "execute_result"
    }
   ],
   "source": [
    "dataFrame.dtypes"
   ]
  },
  {
   "cell_type": "markdown",
   "metadata": {},
   "source": [
    "# Preliminary Data Analysis"
   ]
  },
  {
   "cell_type": "markdown",
   "metadata": {},
   "source": [
    "#### Describe numeric features in the data"
   ]
  },
  {
   "cell_type": "code",
   "execution_count": 63,
   "metadata": {
    "collapsed": false
   },
   "outputs": [
    {
     "data": {
      "text/html": [
       "<div>\n",
       "<table border=\"1\" class=\"dataframe\">\n",
       "  <thead>\n",
       "    <tr style=\"text-align: right;\">\n",
       "      <th></th>\n",
       "      <th>sales20092010</th>\n",
       "      <th>salesPriceCoefficientVariance</th>\n",
       "      <th>commercialResidentialLandRatio</th>\n",
       "      <th>unitsPerSquareMile</th>\n",
       "      <th>residentialPermits</th>\n",
       "      <th>vacantLots</th>\n",
       "      <th>vacantHouseNotices</th>\n",
       "      <th>foreclosureFilings</th>\n",
       "      <th>medianSalesPrice20092010</th>\n",
       "      <th>ownerOccupied</th>\n",
       "    </tr>\n",
       "  </thead>\n",
       "  <tbody>\n",
       "    <tr>\n",
       "      <th>count</th>\n",
       "      <td>710.000000</td>\n",
       "      <td>710.000000</td>\n",
       "      <td>710.000000</td>\n",
       "      <td>710.000000</td>\n",
       "      <td>710.000000</td>\n",
       "      <td>710.000000</td>\n",
       "      <td>710.000000</td>\n",
       "      <td>710.000000</td>\n",
       "      <td>710.000000</td>\n",
       "      <td>710.000000</td>\n",
       "    </tr>\n",
       "    <tr>\n",
       "      <th>mean</th>\n",
       "      <td>18.847887</td>\n",
       "      <td>0.602648</td>\n",
       "      <td>217.150817</td>\n",
       "      <td>5683.015211</td>\n",
       "      <td>0.616901</td>\n",
       "      <td>9.073239</td>\n",
       "      <td>7.405634</td>\n",
       "      <td>5.867606</td>\n",
       "      <td>96691.235211</td>\n",
       "      <td>48.385493</td>\n",
       "    </tr>\n",
       "    <tr>\n",
       "      <th>std</th>\n",
       "      <td>14.839127</td>\n",
       "      <td>0.307203</td>\n",
       "      <td>1668.778867</td>\n",
       "      <td>4703.420167</td>\n",
       "      <td>4.037867</td>\n",
       "      <td>12.361286</td>\n",
       "      <td>10.611167</td>\n",
       "      <td>17.069573</td>\n",
       "      <td>99209.184736</td>\n",
       "      <td>22.763382</td>\n",
       "    </tr>\n",
       "    <tr>\n",
       "      <th>min</th>\n",
       "      <td>0.000000</td>\n",
       "      <td>0.000000</td>\n",
       "      <td>0.000000</td>\n",
       "      <td>0.000000</td>\n",
       "      <td>0.000000</td>\n",
       "      <td>0.000000</td>\n",
       "      <td>0.000000</td>\n",
       "      <td>0.000000</td>\n",
       "      <td>0.000000</td>\n",
       "      <td>0.000000</td>\n",
       "    </tr>\n",
       "    <tr>\n",
       "      <th>25%</th>\n",
       "      <td>9.000000</td>\n",
       "      <td>0.410000</td>\n",
       "      <td>0.327500</td>\n",
       "      <td>2758.455000</td>\n",
       "      <td>0.000000</td>\n",
       "      <td>2.000000</td>\n",
       "      <td>0.000000</td>\n",
       "      <td>3.000000</td>\n",
       "      <td>26062.500000</td>\n",
       "      <td>33.100000</td>\n",
       "    </tr>\n",
       "    <tr>\n",
       "      <th>50%</th>\n",
       "      <td>16.000000</td>\n",
       "      <td>0.570000</td>\n",
       "      <td>4.155000</td>\n",
       "      <td>4807.145000</td>\n",
       "      <td>0.000000</td>\n",
       "      <td>5.000000</td>\n",
       "      <td>1.000000</td>\n",
       "      <td>5.000000</td>\n",
       "      <td>62992.500000</td>\n",
       "      <td>48.000000</td>\n",
       "    </tr>\n",
       "    <tr>\n",
       "      <th>75%</th>\n",
       "      <td>25.000000</td>\n",
       "      <td>0.807500</td>\n",
       "      <td>15.897500</td>\n",
       "      <td>7510.717500</td>\n",
       "      <td>0.000000</td>\n",
       "      <td>11.000000</td>\n",
       "      <td>12.750000</td>\n",
       "      <td>7.000000</td>\n",
       "      <td>135187.500000</td>\n",
       "      <td>65.400000</td>\n",
       "    </tr>\n",
       "    <tr>\n",
       "      <th>max</th>\n",
       "      <td>99.000000</td>\n",
       "      <td>1.760000</td>\n",
       "      <td>30761.430000</td>\n",
       "      <td>71300.000000</td>\n",
       "      <td>100.000000</td>\n",
       "      <td>92.000000</td>\n",
       "      <td>55.000000</td>\n",
       "      <td>450.000000</td>\n",
       "      <td>670000.000000</td>\n",
       "      <td>100.000000</td>\n",
       "    </tr>\n",
       "  </tbody>\n",
       "</table>\n",
       "</div>"
      ],
      "text/plain": [
       "       sales20092010  salesPriceCoefficientVariance   \\\n",
       "count     710.000000                      710.000000   \n",
       "mean       18.847887                        0.602648   \n",
       "std        14.839127                        0.307203   \n",
       "min         0.000000                        0.000000   \n",
       "25%         9.000000                        0.410000   \n",
       "50%        16.000000                        0.570000   \n",
       "75%        25.000000                        0.807500   \n",
       "max        99.000000                        1.760000   \n",
       "\n",
       "       commercialResidentialLandRatio  unitsPerSquareMile  residentialPermits  \\\n",
       "count                      710.000000          710.000000          710.000000   \n",
       "mean                       217.150817         5683.015211            0.616901   \n",
       "std                       1668.778867         4703.420167            4.037867   \n",
       "min                          0.000000            0.000000            0.000000   \n",
       "25%                          0.327500         2758.455000            0.000000   \n",
       "50%                          4.155000         4807.145000            0.000000   \n",
       "75%                         15.897500         7510.717500            0.000000   \n",
       "max                      30761.430000        71300.000000          100.000000   \n",
       "\n",
       "       vacantLots  vacantHouseNotices  foreclosureFilings  \\\n",
       "count  710.000000          710.000000          710.000000   \n",
       "mean     9.073239            7.405634            5.867606   \n",
       "std     12.361286           10.611167           17.069573   \n",
       "min      0.000000            0.000000            0.000000   \n",
       "25%      2.000000            0.000000            3.000000   \n",
       "50%      5.000000            1.000000            5.000000   \n",
       "75%     11.000000           12.750000            7.000000   \n",
       "max     92.000000           55.000000          450.000000   \n",
       "\n",
       "       medianSalesPrice20092010  ownerOccupied  \n",
       "count                710.000000     710.000000  \n",
       "mean               96691.235211      48.385493  \n",
       "std                99209.184736      22.763382  \n",
       "min                    0.000000       0.000000  \n",
       "25%                26062.500000      33.100000  \n",
       "50%                62992.500000      48.000000  \n",
       "75%               135187.500000      65.400000  \n",
       "max               670000.000000     100.000000  "
      ]
     },
     "execution_count": 63,
     "metadata": {},
     "output_type": "execute_result"
    }
   ],
   "source": [
    "dataFrame.describe()"
   ]
  },
  {
   "cell_type": "markdown",
   "metadata": {},
   "source": [
    "#### Compute histogram for blocks per market category"
   ]
  },
  {
   "cell_type": "code",
   "execution_count": 72,
   "metadata": {
    "collapsed": false
   },
   "outputs": [
    {
     "data": {
      "text/plain": [
       "Distressed                                        209\n",
       "Middle Market Choice                              117\n",
       "Middle Market Stressed                            114\n",
       "Regional Choice                                    94\n",
       "Middle Market                                      92\n",
       "< 5 Residential Sales (2009-2010)                  30\n",
       "< 5 Sales; MultiFamily (>65% of Housing Units)     28\n",
       "NR - Non-residential (<50 residential lots)        13\n",
       ">50 residential lots; >40 % vacant lots             8\n",
       ">50 residential lots; >50 % vacant lots             5\n",
       "dtype: int64"
      ]
     },
     "execution_count": 72,
     "metadata": {},
     "output_type": "execute_result"
    }
   ],
   "source": [
    "dataFrame.marketCategory.value_counts()"
   ]
  },
  {
   "cell_type": "markdown",
   "metadata": {},
   "source": [
    "#### Compute the correlation matrix for numeric features"
   ]
  },
  {
   "cell_type": "code",
   "execution_count": 73,
   "metadata": {
    "collapsed": false,
    "scrolled": false
   },
   "outputs": [
    {
     "data": {
      "text/html": [
       "<div>\n",
       "<table border=\"1\" class=\"dataframe\">\n",
       "  <thead>\n",
       "    <tr style=\"text-align: right;\">\n",
       "      <th></th>\n",
       "      <th>sales20092010</th>\n",
       "      <th>salesPriceCoefficientVariance</th>\n",
       "      <th>commercialResidentialLandRatio</th>\n",
       "      <th>unitsPerSquareMile</th>\n",
       "      <th>residentialPermits</th>\n",
       "      <th>vacantLots</th>\n",
       "      <th>vacantHouseNotices</th>\n",
       "      <th>foreclosureFilings</th>\n",
       "      <th>medianSalesPrice20092010</th>\n",
       "      <th>ownerOccupied</th>\n",
       "    </tr>\n",
       "  </thead>\n",
       "  <tbody>\n",
       "    <tr>\n",
       "      <th>sales20092010</th>\n",
       "      <td>1.000000</td>\n",
       "      <td>0.082083</td>\n",
       "      <td>0.099650</td>\n",
       "      <td>0.192459</td>\n",
       "      <td>-0.063447</td>\n",
       "      <td>-0.299811</td>\n",
       "      <td>-0.097870</td>\n",
       "      <td>-0.039832</td>\n",
       "      <td>0.179156</td>\n",
       "      <td>0.354003</td>\n",
       "    </tr>\n",
       "    <tr>\n",
       "      <th>salesPriceCoefficientVariance</th>\n",
       "      <td>0.082083</td>\n",
       "      <td>1.000000</td>\n",
       "      <td>-0.005013</td>\n",
       "      <td>0.022925</td>\n",
       "      <td>-0.088735</td>\n",
       "      <td>0.008492</td>\n",
       "      <td>0.603257</td>\n",
       "      <td>-0.048127</td>\n",
       "      <td>-0.369738</td>\n",
       "      <td>-0.073071</td>\n",
       "    </tr>\n",
       "    <tr>\n",
       "      <th>commercialResidentialLandRatio</th>\n",
       "      <td>0.099650</td>\n",
       "      <td>-0.005013</td>\n",
       "      <td>1.000000</td>\n",
       "      <td>0.075088</td>\n",
       "      <td>-0.008375</td>\n",
       "      <td>-0.032488</td>\n",
       "      <td>0.005448</td>\n",
       "      <td>-0.010597</td>\n",
       "      <td>0.011312</td>\n",
       "      <td>0.069438</td>\n",
       "    </tr>\n",
       "    <tr>\n",
       "      <th>unitsPerSquareMile</th>\n",
       "      <td>0.192459</td>\n",
       "      <td>0.022925</td>\n",
       "      <td>0.075088</td>\n",
       "      <td>1.000000</td>\n",
       "      <td>0.531383</td>\n",
       "      <td>-0.224876</td>\n",
       "      <td>0.024173</td>\n",
       "      <td>-0.020884</td>\n",
       "      <td>0.063534</td>\n",
       "      <td>-0.228133</td>\n",
       "    </tr>\n",
       "    <tr>\n",
       "      <th>residentialPermits</th>\n",
       "      <td>-0.063447</td>\n",
       "      <td>-0.088735</td>\n",
       "      <td>-0.008375</td>\n",
       "      <td>0.531383</td>\n",
       "      <td>1.000000</td>\n",
       "      <td>0.037072</td>\n",
       "      <td>-0.010358</td>\n",
       "      <td>-0.012585</td>\n",
       "      <td>0.000923</td>\n",
       "      <td>-0.144334</td>\n",
       "    </tr>\n",
       "    <tr>\n",
       "      <th>vacantLots</th>\n",
       "      <td>-0.299811</td>\n",
       "      <td>0.008492</td>\n",
       "      <td>-0.032488</td>\n",
       "      <td>-0.224876</td>\n",
       "      <td>0.037072</td>\n",
       "      <td>1.000000</td>\n",
       "      <td>0.251381</td>\n",
       "      <td>0.234143</td>\n",
       "      <td>-0.244182</td>\n",
       "      <td>-0.398891</td>\n",
       "    </tr>\n",
       "    <tr>\n",
       "      <th>vacantHouseNotices</th>\n",
       "      <td>-0.097870</td>\n",
       "      <td>0.603257</td>\n",
       "      <td>0.005448</td>\n",
       "      <td>0.024173</td>\n",
       "      <td>-0.010358</td>\n",
       "      <td>0.251381</td>\n",
       "      <td>1.000000</td>\n",
       "      <td>-0.014662</td>\n",
       "      <td>-0.451016</td>\n",
       "      <td>-0.351354</td>\n",
       "    </tr>\n",
       "    <tr>\n",
       "      <th>foreclosureFilings</th>\n",
       "      <td>-0.039832</td>\n",
       "      <td>-0.048127</td>\n",
       "      <td>-0.010597</td>\n",
       "      <td>-0.020884</td>\n",
       "      <td>-0.012585</td>\n",
       "      <td>0.234143</td>\n",
       "      <td>-0.014662</td>\n",
       "      <td>1.000000</td>\n",
       "      <td>-0.084406</td>\n",
       "      <td>-0.103591</td>\n",
       "    </tr>\n",
       "    <tr>\n",
       "      <th>medianSalesPrice20092010</th>\n",
       "      <td>0.179156</td>\n",
       "      <td>-0.369738</td>\n",
       "      <td>0.011312</td>\n",
       "      <td>0.063534</td>\n",
       "      <td>0.000923</td>\n",
       "      <td>-0.244182</td>\n",
       "      <td>-0.451016</td>\n",
       "      <td>-0.084406</td>\n",
       "      <td>1.000000</td>\n",
       "      <td>0.300833</td>\n",
       "    </tr>\n",
       "    <tr>\n",
       "      <th>ownerOccupied</th>\n",
       "      <td>0.354003</td>\n",
       "      <td>-0.073071</td>\n",
       "      <td>0.069438</td>\n",
       "      <td>-0.228133</td>\n",
       "      <td>-0.144334</td>\n",
       "      <td>-0.398891</td>\n",
       "      <td>-0.351354</td>\n",
       "      <td>-0.103591</td>\n",
       "      <td>0.300833</td>\n",
       "      <td>1.000000</td>\n",
       "    </tr>\n",
       "  </tbody>\n",
       "</table>\n",
       "</div>"
      ],
      "text/plain": [
       "                                sales20092010  salesPriceCoefficientVariance   \\\n",
       "sales20092010                        1.000000                        0.082083   \n",
       "salesPriceCoefficientVariance        0.082083                        1.000000   \n",
       "commercialResidentialLandRatio       0.099650                       -0.005013   \n",
       "unitsPerSquareMile                   0.192459                        0.022925   \n",
       "residentialPermits                  -0.063447                       -0.088735   \n",
       "vacantLots                          -0.299811                        0.008492   \n",
       "vacantHouseNotices                  -0.097870                        0.603257   \n",
       "foreclosureFilings                  -0.039832                       -0.048127   \n",
       "medianSalesPrice20092010             0.179156                       -0.369738   \n",
       "ownerOccupied                        0.354003                       -0.073071   \n",
       "\n",
       "                                commercialResidentialLandRatio  \\\n",
       "sales20092010                                         0.099650   \n",
       "salesPriceCoefficientVariance                        -0.005013   \n",
       "commercialResidentialLandRatio                        1.000000   \n",
       "unitsPerSquareMile                                    0.075088   \n",
       "residentialPermits                                   -0.008375   \n",
       "vacantLots                                           -0.032488   \n",
       "vacantHouseNotices                                    0.005448   \n",
       "foreclosureFilings                                   -0.010597   \n",
       "medianSalesPrice20092010                              0.011312   \n",
       "ownerOccupied                                         0.069438   \n",
       "\n",
       "                                unitsPerSquareMile  residentialPermits  \\\n",
       "sales20092010                             0.192459           -0.063447   \n",
       "salesPriceCoefficientVariance             0.022925           -0.088735   \n",
       "commercialResidentialLandRatio            0.075088           -0.008375   \n",
       "unitsPerSquareMile                        1.000000            0.531383   \n",
       "residentialPermits                        0.531383            1.000000   \n",
       "vacantLots                               -0.224876            0.037072   \n",
       "vacantHouseNotices                        0.024173           -0.010358   \n",
       "foreclosureFilings                       -0.020884           -0.012585   \n",
       "medianSalesPrice20092010                  0.063534            0.000923   \n",
       "ownerOccupied                            -0.228133           -0.144334   \n",
       "\n",
       "                                vacantLots  vacantHouseNotices  \\\n",
       "sales20092010                    -0.299811           -0.097870   \n",
       "salesPriceCoefficientVariance     0.008492            0.603257   \n",
       "commercialResidentialLandRatio   -0.032488            0.005448   \n",
       "unitsPerSquareMile               -0.224876            0.024173   \n",
       "residentialPermits                0.037072           -0.010358   \n",
       "vacantLots                        1.000000            0.251381   \n",
       "vacantHouseNotices                0.251381            1.000000   \n",
       "foreclosureFilings                0.234143           -0.014662   \n",
       "medianSalesPrice20092010         -0.244182           -0.451016   \n",
       "ownerOccupied                    -0.398891           -0.351354   \n",
       "\n",
       "                                foreclosureFilings  medianSalesPrice20092010  \\\n",
       "sales20092010                            -0.039832                  0.179156   \n",
       "salesPriceCoefficientVariance            -0.048127                 -0.369738   \n",
       "commercialResidentialLandRatio           -0.010597                  0.011312   \n",
       "unitsPerSquareMile                       -0.020884                  0.063534   \n",
       "residentialPermits                       -0.012585                  0.000923   \n",
       "vacantLots                                0.234143                 -0.244182   \n",
       "vacantHouseNotices                       -0.014662                 -0.451016   \n",
       "foreclosureFilings                        1.000000                 -0.084406   \n",
       "medianSalesPrice20092010                 -0.084406                  1.000000   \n",
       "ownerOccupied                            -0.103591                  0.300833   \n",
       "\n",
       "                                ownerOccupied  \n",
       "sales20092010                        0.354003  \n",
       "salesPriceCoefficientVariance       -0.073071  \n",
       "commercialResidentialLandRatio       0.069438  \n",
       "unitsPerSquareMile                  -0.228133  \n",
       "residentialPermits                  -0.144334  \n",
       "vacantLots                          -0.398891  \n",
       "vacantHouseNotices                  -0.351354  \n",
       "foreclosureFilings                  -0.103591  \n",
       "medianSalesPrice20092010             0.300833  \n",
       "ownerOccupied                        1.000000  "
      ]
     },
     "execution_count": 73,
     "metadata": {},
     "output_type": "execute_result"
    }
   ],
   "source": [
    "dataFrame.corr(method='pearson')"
   ]
  },
  {
   "cell_type": "markdown",
   "metadata": {},
   "source": [
    "#### Conduct Principal Component Analysis (PCA) on the dataset"
   ]
  },
  {
   "cell_type": "code",
   "execution_count": 108,
   "metadata": {
    "collapsed": false
   },
   "outputs": [
    {
     "data": {
      "text/plain": [
       "PCA(copy=True, n_components=10, whiten=True)"
      ]
     },
     "execution_count": 108,
     "metadata": {},
     "output_type": "execute_result"
    }
   ],
   "source": [
    "scaledDf = dataFrame.drop('marketCategory', axis=1)\n",
    "scaledDf = skl.preprocessing.scale(scaledDf)\n",
    "pca=skl.decomposition.PCA(n_components=10, whiten=True)\n",
    "pca.fit(scaledDf)"
   ]
  },
  {
   "cell_type": "code",
   "execution_count": 109,
   "metadata": {
    "collapsed": false
   },
   "outputs": [
    {
     "data": {
      "text/plain": [
       "array([[-0.28046768,  0.33869447, -0.05656142, -0.02973214,  0.03046751,\n",
       "         0.38399055,  0.49308794,  0.11674214, -0.45741832, -0.43378308],\n",
       "       [ 0.12487432,  0.01301619,  0.08154762,  0.71205068,  0.6223502 ,\n",
       "        -0.15851059,  0.05040863, -0.07348265,  0.03106803, -0.2218546 ],\n",
       "       [-0.43664312, -0.56387666, -0.14544924, -0.03729879,  0.20704622,\n",
       "         0.36367102, -0.3414792 ,  0.27508186,  0.15542624, -0.27799116],\n",
       "       [ 0.29967436, -0.02378354,  0.66907507,  0.05518198, -0.06226786,\n",
       "         0.18954439, -0.01846078,  0.64320822, -0.04253049,  0.05702898],\n",
       "       [-0.33301378, -0.14021927,  0.7111531 , -0.09303977, -0.0096804 ,\n",
       "         0.04384472,  0.0118898 , -0.58660879,  0.00638225, -0.09347306],\n",
       "       [ 0.42824043, -0.03693986, -0.06003687,  0.09535737, -0.30324635,\n",
       "         0.38944466,  0.18070313, -0.21190432,  0.55436685, -0.41718458],\n",
       "       [-0.24274214, -0.04368565,  0.04595219,  0.24643717, -0.52528062,\n",
       "        -0.58116474, -0.05183059,  0.2036319 ,  0.01118934, -0.46730631],\n",
       "       [-0.45807683,  0.39261499,  0.06778188, -0.03709748,  0.14312565,\n",
       "        -0.06600956,  0.25767492,  0.22816582,  0.6694511 ,  0.19643186],\n",
       "       [ 0.08272295, -0.59791294, -0.02077842, -0.17829592,  0.11253295,\n",
       "        -0.2634758 ,  0.71321698,  0.08035393,  0.02566469,  0.07455736],\n",
       "       [-0.23535734, -0.17892247, -0.06966333,  0.61320242, -0.40482853,\n",
       "         0.30679513,  0.16376257, -0.05088295, -0.08674735,  0.48660224]])"
      ]
     },
     "execution_count": 109,
     "metadata": {},
     "output_type": "execute_result"
    }
   ],
   "source": [
    "pca.components_"
   ]
  },
  {
   "cell_type": "code",
   "execution_count": 123,
   "metadata": {
    "collapsed": false,
    "scrolled": true
   },
   "outputs": [
    {
     "data": {
      "text/plain": [
       "[<matplotlib.lines.Line2D at 0x7f517b89bcd0>]"
      ]
     },
     "execution_count": 123,
     "metadata": {},
     "output_type": "execute_result"
    },
    {
     "data": {
      "image/png": "[encoded data removed]",
      "text/plain": [
       "<matplotlib.figure.Figure at 0x7f517b9228d0>"
      ]
     },
     "metadata": {},
     "output_type": "display_data"
    }
   ],
   "source": [
    "cumulativeVariance = pca.explained_variance_ratio_.cumsum()\n",
    "# print(cumulativeVariance)\n",
    "matplotlib.pyplot.plot(cumulativeVariance * 100)\n"
   ]
  },
  {
   "cell_type": "markdown",
   "metadata": {},
   "source": [
    "#### Autocorrelation analysis by sorting on certain numeric features (EXPERIMENTAL)"
   ]
  },
  {
   "cell_type": "code",
   "execution_count": 89,
   "metadata": {
    "collapsed": false,
    "scrolled": false
   },
   "outputs": [
    {
     "data": {
      "text/plain": [
       "<matplotlib.axes._subplots.AxesSubplot at 0x7f5187a9a3d0>"
      ]
     },
     "execution_count": 89,
     "metadata": {},
     "output_type": "execute_result"
    },
    {
     "data": {
      "image/png": "[encoded data removed]",
      "text/plain": [
       "<matplotlib.figure.Figure at 0x7f5186fe1490>"
      ]
     },
     "metadata": {},
     "output_type": "display_data"
    }
   ],
   "source": [
    "from pandas.tools.plotting import autocorrelation_plot\n",
    "autocorrelation_plot(dataFrame.sort_values(by='unitsPerSquareMile').medianSalesPrice20092010)\n",
    "autocorrelation_plot(dataFrame.sort_values(by='marketCategory').medianSalesPrice20092010)\n",
    "autocorrelation_plot(dataFrame.sort_values(by='vacantLots').medianSalesPrice20092010)\n",
    "autocorrelation_plot(dataFrame.sort_values(by='foreclosureFilings').medianSalesPrice20092010)\n",
    "autocorrelation_plot(dataFrame.sort_values(by='sales20092010').medianSalesPrice20092010)"
   ]
  },
  {
   "cell_type": "code",
   "execution_count": null,
   "metadata": {
    "collapsed": true
   },
   "outputs": [],
   "source": []
  }
 ],
 "metadata": {
  "kernelspec": {
   "display_name": "Python 2",
   "language": "python",
   "name": "python2"
  },
  "language_info": {
   "codemirror_mode": {
    "name": "ipython",
    "version": 2
   },
   "file_extension": ".py",
   "mimetype": "text/x-python",
   "name": "python",
   "nbconvert_exporter": "python",
   "pygments_lexer": "ipython2",
   "version": "2.7.11"
  }
 },
 "nbformat": 4,
 "nbformat_minor": 1
}
