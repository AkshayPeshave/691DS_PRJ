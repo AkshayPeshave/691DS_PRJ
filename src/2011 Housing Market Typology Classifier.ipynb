{
 "cells": [
  {
   "cell_type": "markdown",
   "metadata": {},
   "source": [
    "# Importing required packages"
   ]
  },
  {
   "cell_type": "code",
   "execution_count": 104,
   "metadata": {
    "collapsed": false
   },
   "outputs": [],
   "source": [
    "import pandas as pd\n",
    "import sys\n",
    "import math\n",
    "import numpy as np\n",
    "import pickle"
   ]
  },
  {
   "cell_type": "code",
   "execution_count": 105,
   "metadata": {
    "collapsed": false
   },
   "outputs": [],
   "source": [
    "%matplotlib inline\n",
    "import matplotlib\n",
    "matplotlib.style.use('ggplot')"
   ]
  },
  {
   "cell_type": "code",
   "execution_count": 106,
   "metadata": {
    "collapsed": false
   },
   "outputs": [],
   "source": [
    "import sklearn as skl\n",
    "from sklearn import *"
   ]
  },
  {
   "cell_type": "markdown",
   "metadata": {},
   "source": [
    "# Loading the 2011 Housing Market Typology dataset and retrieving basic data stats"
   ]
  },
  {
   "cell_type": "code",
   "execution_count": 107,
   "metadata": {
    "collapsed": true
   },
   "outputs": [],
   "source": [
    "housingTypologyDF = pd.read_csv('../dat/Housing_Market_Typology_2011.csv')"
   ]
  },
  {
   "cell_type": "code",
   "execution_count": 108,
   "metadata": {
    "collapsed": false,
    "scrolled": true
   },
   "outputs": [
    {
     "name": "stdout",
     "output_type": "stream",
     "text": [
      "Data Shape (#col x #row) = 12 x 710\n"
     ]
    }
   ],
   "source": [
    "print('Data Shape (#col x #row) = '+ str(len(housingTypologyDF.columns))+ ' x ' + str(len(housingTypologyDF)))"
   ]
  },
  {
   "cell_type": "code",
   "execution_count": 109,
   "metadata": {
    "collapsed": false,
    "scrolled": true
   },
   "outputs": [
    {
     "data": {
      "text/html": [
       "<div>\n",
       "<table border=\"1\" class=\"dataframe\">\n",
       "  <thead>\n",
       "    <tr style=\"text-align: right;\">\n",
       "      <th></th>\n",
       "      <th>blockGroup</th>\n",
       "      <th>marketCategory</th>\n",
       "      <th>sales20092010</th>\n",
       "      <th>salesPriceCoefficientVariance</th>\n",
       "      <th>commercialResidentialLandRatio</th>\n",
       "      <th>unitsPerSquareMile</th>\n",
       "      <th>residentialPermits</th>\n",
       "      <th>vacantLots</th>\n",
       "      <th>vacantHouseNotices</th>\n",
       "      <th>foreclosureFilings</th>\n",
       "      <th>medianSalesPrice20092010</th>\n",
       "      <th>ownerOccupied</th>\n",
       "    </tr>\n",
       "  </thead>\n",
       "  <tbody>\n",
       "    <tr>\n",
       "      <th>0</th>\n",
       "      <td>101001</td>\n",
       "      <td>Regional Choice</td>\n",
       "      <td>79</td>\n",
       "      <td>0.40</td>\n",
       "      <td>15.25</td>\n",
       "      <td>15225.00</td>\n",
       "      <td>0%</td>\n",
       "      <td>0%</td>\n",
       "      <td>0%</td>\n",
       "      <td>3%</td>\n",
       "      <td>$238000.00</td>\n",
       "      <td>78%</td>\n",
       "    </tr>\n",
       "    <tr>\n",
       "      <th>1</th>\n",
       "      <td>101002</td>\n",
       "      <td>Regional Choice</td>\n",
       "      <td>69</td>\n",
       "      <td>0.35</td>\n",
       "      <td>3.59</td>\n",
       "      <td>11975.00</td>\n",
       "      <td>1%</td>\n",
       "      <td>1%</td>\n",
       "      <td>1%</td>\n",
       "      <td>5%</td>\n",
       "      <td>$235000.00</td>\n",
       "      <td>69.4%</td>\n",
       "    </tr>\n",
       "    <tr>\n",
       "      <th>2</th>\n",
       "      <td>101003</td>\n",
       "      <td>Regional Choice</td>\n",
       "      <td>47</td>\n",
       "      <td>0.41</td>\n",
       "      <td>5.08</td>\n",
       "      <td>6100.00</td>\n",
       "      <td>0%</td>\n",
       "      <td>3%</td>\n",
       "      <td>0%</td>\n",
       "      <td>3%</td>\n",
       "      <td>$299000.00</td>\n",
       "      <td>78.6%</td>\n",
       "    </tr>\n",
       "    <tr>\n",
       "      <th>3</th>\n",
       "      <td>102001</td>\n",
       "      <td>Middle Market Choice</td>\n",
       "      <td>51</td>\n",
       "      <td>0.49</td>\n",
       "      <td>0.00</td>\n",
       "      <td>12300.00</td>\n",
       "      <td>1%</td>\n",
       "      <td>0%</td>\n",
       "      <td>2%</td>\n",
       "      <td>8%</td>\n",
       "      <td>$159900.00</td>\n",
       "      <td>68.8%</td>\n",
       "    </tr>\n",
       "    <tr>\n",
       "      <th>4</th>\n",
       "      <td>102002</td>\n",
       "      <td>Regional Choice</td>\n",
       "      <td>32</td>\n",
       "      <td>0.46</td>\n",
       "      <td>0.00</td>\n",
       "      <td>14100.00</td>\n",
       "      <td>0%</td>\n",
       "      <td>0%</td>\n",
       "      <td>2%</td>\n",
       "      <td>5%</td>\n",
       "      <td>$199694.00</td>\n",
       "      <td>77.2%</td>\n",
       "    </tr>\n",
       "    <tr>\n",
       "      <th>5</th>\n",
       "      <td>102003</td>\n",
       "      <td>Regional Choice</td>\n",
       "      <td>67</td>\n",
       "      <td>0.32</td>\n",
       "      <td>24577.62</td>\n",
       "      <td>16400.00</td>\n",
       "      <td>0%</td>\n",
       "      <td>0%</td>\n",
       "      <td>0%</td>\n",
       "      <td>3%</td>\n",
       "      <td>$230000.00</td>\n",
       "      <td>77.4%</td>\n",
       "    </tr>\n",
       "    <tr>\n",
       "      <th>6</th>\n",
       "      <td>102004</td>\n",
       "      <td>Middle Market Choice</td>\n",
       "      <td>33</td>\n",
       "      <td>0.48</td>\n",
       "      <td>0.00</td>\n",
       "      <td>5016.67</td>\n",
       "      <td>1%</td>\n",
       "      <td>0%</td>\n",
       "      <td>1%</td>\n",
       "      <td>7%</td>\n",
       "      <td>$143250.00</td>\n",
       "      <td>69.2%</td>\n",
       "    </tr>\n",
       "    <tr>\n",
       "      <th>7</th>\n",
       "      <td>103001</td>\n",
       "      <td>Regional Choice</td>\n",
       "      <td>54</td>\n",
       "      <td>0.42</td>\n",
       "      <td>12.93</td>\n",
       "      <td>2204.55</td>\n",
       "      <td>0%</td>\n",
       "      <td>3%</td>\n",
       "      <td>1%</td>\n",
       "      <td>4%</td>\n",
       "      <td>$232500.00</td>\n",
       "      <td>76.6%</td>\n",
       "    </tr>\n",
       "    <tr>\n",
       "      <th>8</th>\n",
       "      <td>103002</td>\n",
       "      <td>Regional Choice</td>\n",
       "      <td>87</td>\n",
       "      <td>0.46</td>\n",
       "      <td>22.04</td>\n",
       "      <td>22000.00</td>\n",
       "      <td>1%</td>\n",
       "      <td>0%</td>\n",
       "      <td>2%</td>\n",
       "      <td>6%</td>\n",
       "      <td>$189900.00</td>\n",
       "      <td>41.3%</td>\n",
       "    </tr>\n",
       "    <tr>\n",
       "      <th>9</th>\n",
       "      <td>104001</td>\n",
       "      <td>Regional Choice</td>\n",
       "      <td>61</td>\n",
       "      <td>0.38</td>\n",
       "      <td>1.61</td>\n",
       "      <td>8383.33</td>\n",
       "      <td>1%</td>\n",
       "      <td>1%</td>\n",
       "      <td>0%</td>\n",
       "      <td>3%</td>\n",
       "      <td>$200000.00</td>\n",
       "      <td>61.5%</td>\n",
       "    </tr>\n",
       "  </tbody>\n",
       "</table>\n",
       "</div>"
      ],
      "text/plain": [
       "   blockGroup        marketCategory  sales20092010  \\\n",
       "0      101001       Regional Choice             79   \n",
       "1      101002       Regional Choice             69   \n",
       "2      101003       Regional Choice             47   \n",
       "3      102001  Middle Market Choice             51   \n",
       "4      102002       Regional Choice             32   \n",
       "5      102003       Regional Choice             67   \n",
       "6      102004  Middle Market Choice             33   \n",
       "7      103001       Regional Choice             54   \n",
       "8      103002       Regional Choice             87   \n",
       "9      104001       Regional Choice             61   \n",
       "\n",
       "   salesPriceCoefficientVariance   commercialResidentialLandRatio  \\\n",
       "0                            0.40                           15.25   \n",
       "1                            0.35                            3.59   \n",
       "2                            0.41                            5.08   \n",
       "3                            0.49                            0.00   \n",
       "4                            0.46                            0.00   \n",
       "5                            0.32                        24577.62   \n",
       "6                            0.48                            0.00   \n",
       "7                            0.42                           12.93   \n",
       "8                            0.46                           22.04   \n",
       "9                            0.38                            1.61   \n",
       "\n",
       "   unitsPerSquareMile residentialPermits vacantLots vacantHouseNotices  \\\n",
       "0            15225.00                 0%         0%                 0%   \n",
       "1            11975.00                 1%         1%                 1%   \n",
       "2             6100.00                 0%         3%                 0%   \n",
       "3            12300.00                 1%         0%                 2%   \n",
       "4            14100.00                 0%         0%                 2%   \n",
       "5            16400.00                 0%         0%                 0%   \n",
       "6             5016.67                 1%         0%                 1%   \n",
       "7             2204.55                 0%         3%                 1%   \n",
       "8            22000.00                 1%         0%                 2%   \n",
       "9             8383.33                 1%         1%                 0%   \n",
       "\n",
       "  foreclosureFilings medianSalesPrice20092010 ownerOccupied  \n",
       "0                 3%               $238000.00           78%  \n",
       "1                 5%               $235000.00         69.4%  \n",
       "2                 3%               $299000.00         78.6%  \n",
       "3                 8%               $159900.00         68.8%  \n",
       "4                 5%               $199694.00         77.2%  \n",
       "5                 3%               $230000.00         77.4%  \n",
       "6                 7%               $143250.00         69.2%  \n",
       "7                 4%               $232500.00         76.6%  \n",
       "8                 6%               $189900.00         41.3%  \n",
       "9                 3%               $200000.00         61.5%  "
      ]
     },
     "execution_count": 109,
     "metadata": {},
     "output_type": "execute_result"
    }
   ],
   "source": [
    "housingTypologyDF.head(10)"
   ]
  },
  {
   "cell_type": "code",
   "execution_count": 110,
   "metadata": {
    "collapsed": false
   },
   "outputs": [
    {
     "data": {
      "text/plain": [
       "True"
      ]
     },
     "execution_count": 110,
     "metadata": {},
     "output_type": "execute_result"
    }
   ],
   "source": [
    "# Are block groups unique identifiers?\n",
    "len(housingTypologyDF)==len(housingTypologyDF.drop_duplicates('blockGroup'))"
   ]
  },
  {
   "cell_type": "code",
   "execution_count": 111,
   "metadata": {
    "collapsed": true
   },
   "outputs": [],
   "source": [
    "# Drop the 'blockGroup' column as it is a row identifier\n",
    "housingTypologyDF.drop('blockGroup', axis=1, inplace=True)"
   ]
  },
  {
   "cell_type": "code",
   "execution_count": 112,
   "metadata": {
    "collapsed": false,
    "scrolled": true
   },
   "outputs": [
    {
     "data": {
      "text/plain": [
       "marketCategory                     object\n",
       "sales20092010                       int64\n",
       "salesPriceCoefficientVariance     float64\n",
       "commercialResidentialLandRatio    float64\n",
       "unitsPerSquareMile                float64\n",
       "residentialPermits                 object\n",
       "vacantLots                         object\n",
       "vacantHouseNotices                 object\n",
       "foreclosureFilings                 object\n",
       "medianSalesPrice20092010           object\n",
       "ownerOccupied                      object\n",
       "dtype: object"
      ]
     },
     "execution_count": 112,
     "metadata": {},
     "output_type": "execute_result"
    }
   ],
   "source": [
    "housingTypologyDF.dtypes"
   ]
  },
  {
   "cell_type": "markdown",
   "metadata": {},
   "source": [
    "### Data Cleansing"
   ]
  },
  {
   "cell_type": "code",
   "execution_count": 113,
   "metadata": {
    "collapsed": false
   },
   "outputs": [],
   "source": [
    "# Selecting 'marketCategory' as the class label for the dataset. It labels each block per it's demand \n",
    "# on the real estate market.\n",
    "housingTypologyDF['marketCategory']=housingTypologyDF['marketCategory'].astype('category')\n",
    "\n",
    "# Remove the '%' from values in the columns {residentialPermits, vacantLots, vacantHouseNotices, \n",
    "# foreclosureFilings, ownerOccupied} and cast to float datatype.\n",
    "housingTypologyDF['residentialPermits']=housingTypologyDF['residentialPermits'].replace( '[\\%]','', regex=True ).astype(float)\n",
    "housingTypologyDF['vacantLots']=housingTypologyDF['vacantLots'].replace( '[\\%]','', regex=True ).astype(float)\n",
    "housingTypologyDF['vacantHouseNotices']=housingTypologyDF['vacantHouseNotices'].replace( '[\\%]','', regex=True ).astype(float)\n",
    "housingTypologyDF['foreclosureFilings']=housingTypologyDF['foreclosureFilings'].replace( '[\\%]','', regex=True ).astype(float)\n",
    "housingTypologyDF['ownerOccupied']=housingTypologyDF['ownerOccupied'].replace( '[\\%]','', regex=True ).astype(float)\n",
    "\n",
    "# Remove the dollar symbol from values in the column 'medianSalesPrice20092010' and cast to float datatype\n",
    "housingTypologyDF['medianSalesPrice20092010']=housingTypologyDF['medianSalesPrice20092010'].replace( '[\\$]','', regex=True ).astype(float)"
   ]
  },
  {
   "cell_type": "code",
   "execution_count": 114,
   "metadata": {
    "collapsed": false
   },
   "outputs": [
    {
     "data": {
      "text/plain": [
       "marketCategory                    category\n",
       "sales20092010                        int64\n",
       "salesPriceCoefficientVariance      float64\n",
       "commercialResidentialLandRatio     float64\n",
       "unitsPerSquareMile                 float64\n",
       "residentialPermits                 float64\n",
       "vacantLots                         float64\n",
       "vacantHouseNotices                 float64\n",
       "foreclosureFilings                 float64\n",
       "medianSalesPrice20092010           float64\n",
       "ownerOccupied                      float64\n",
       "dtype: object"
      ]
     },
     "execution_count": 114,
     "metadata": {},
     "output_type": "execute_result"
    }
   ],
   "source": [
    "housingTypologyDF.dtypes"
   ]
  },
  {
   "cell_type": "code",
   "execution_count": 115,
   "metadata": {
    "collapsed": false,
    "scrolled": true
   },
   "outputs": [
    {
     "name": "stdout",
     "output_type": "stream",
     "text": [
      "marketCategory: False\n",
      "sales20092010: False\n",
      "salesPriceCoefficientVariance : False\n",
      "commercialResidentialLandRatio: False\n",
      "unitsPerSquareMile: False\n",
      "residentialPermits: False\n",
      "vacantLots: False\n",
      "vacantHouseNotices: False\n",
      "foreclosureFilings: False\n",
      "medianSalesPrice20092010: False\n",
      "ownerOccupied: False\n"
     ]
    }
   ],
   "source": [
    "# Check if any column contains missing values\n",
    "for column in housingTypologyDF.columns:\n",
    "    print(column + ': ' + str(len(housingTypologyDF)<>len(housingTypologyDF[column].notnull())))"
   ]
  },
  {
   "cell_type": "code",
   "execution_count": 116,
   "metadata": {
    "collapsed": false
   },
   "outputs": [
    {
     "name": "stdout",
     "output_type": "stream",
     "text": [
      "sales20092010: False\n",
      "salesPriceCoefficientVariance : False\n",
      "commercialResidentialLandRatio: False\n",
      "unitsPerSquareMile: False\n",
      "residentialPermits: False\n",
      "vacantLots: False\n",
      "vacantHouseNotices: False\n",
      "foreclosureFilings: False\n",
      "medianSalesPrice20092010: False\n",
      "ownerOccupied: False\n"
     ]
    }
   ],
   "source": [
    "# Check if any numeric columns contain negative values\n",
    "for column in housingTypologyDF.columns[1:]:\n",
    "    print(column + ': ' + str(len(housingTypologyDF.ix[housingTypologyDF[column]<0])>0))"
   ]
  },
  {
   "cell_type": "markdown",
   "metadata": {},
   "source": [
    "# Preliminary Data Analysis"
   ]
  },
  {
   "cell_type": "markdown",
   "metadata": {},
   "source": [
    "#### Describe numeric features in the data"
   ]
  },
  {
   "cell_type": "code",
   "execution_count": 117,
   "metadata": {
    "collapsed": false
   },
   "outputs": [
    {
     "data": {
      "text/html": [
       "<div>\n",
       "<table border=\"1\" class=\"dataframe\">\n",
       "  <thead>\n",
       "    <tr style=\"text-align: right;\">\n",
       "      <th></th>\n",
       "      <th>sales20092010</th>\n",
       "      <th>salesPriceCoefficientVariance</th>\n",
       "      <th>commercialResidentialLandRatio</th>\n",
       "      <th>unitsPerSquareMile</th>\n",
       "      <th>residentialPermits</th>\n",
       "      <th>vacantLots</th>\n",
       "      <th>vacantHouseNotices</th>\n",
       "      <th>foreclosureFilings</th>\n",
       "      <th>medianSalesPrice20092010</th>\n",
       "      <th>ownerOccupied</th>\n",
       "    </tr>\n",
       "  </thead>\n",
       "  <tbody>\n",
       "    <tr>\n",
       "      <th>count</th>\n",
       "      <td>710.000000</td>\n",
       "      <td>710.000000</td>\n",
       "      <td>710.000000</td>\n",
       "      <td>710.000000</td>\n",
       "      <td>710.000000</td>\n",
       "      <td>710.000000</td>\n",
       "      <td>710.000000</td>\n",
       "      <td>710.000000</td>\n",
       "      <td>710.000000</td>\n",
       "      <td>710.000000</td>\n",
       "    </tr>\n",
       "    <tr>\n",
       "      <th>mean</th>\n",
       "      <td>18.847887</td>\n",
       "      <td>0.602648</td>\n",
       "      <td>217.150817</td>\n",
       "      <td>5683.015211</td>\n",
       "      <td>0.616901</td>\n",
       "      <td>9.073239</td>\n",
       "      <td>7.405634</td>\n",
       "      <td>5.867606</td>\n",
       "      <td>96691.235211</td>\n",
       "      <td>48.385493</td>\n",
       "    </tr>\n",
       "    <tr>\n",
       "      <th>std</th>\n",
       "      <td>14.839127</td>\n",
       "      <td>0.307203</td>\n",
       "      <td>1668.778867</td>\n",
       "      <td>4703.420167</td>\n",
       "      <td>4.037867</td>\n",
       "      <td>12.361286</td>\n",
       "      <td>10.611167</td>\n",
       "      <td>17.069573</td>\n",
       "      <td>99209.184736</td>\n",
       "      <td>22.763382</td>\n",
       "    </tr>\n",
       "    <tr>\n",
       "      <th>min</th>\n",
       "      <td>0.000000</td>\n",
       "      <td>0.000000</td>\n",
       "      <td>0.000000</td>\n",
       "      <td>0.000000</td>\n",
       "      <td>0.000000</td>\n",
       "      <td>0.000000</td>\n",
       "      <td>0.000000</td>\n",
       "      <td>0.000000</td>\n",
       "      <td>0.000000</td>\n",
       "      <td>0.000000</td>\n",
       "    </tr>\n",
       "    <tr>\n",
       "      <th>25%</th>\n",
       "      <td>9.000000</td>\n",
       "      <td>0.410000</td>\n",
       "      <td>0.327500</td>\n",
       "      <td>2758.455000</td>\n",
       "      <td>0.000000</td>\n",
       "      <td>2.000000</td>\n",
       "      <td>0.000000</td>\n",
       "      <td>3.000000</td>\n",
       "      <td>26062.500000</td>\n",
       "      <td>33.100000</td>\n",
       "    </tr>\n",
       "    <tr>\n",
       "      <th>50%</th>\n",
       "      <td>16.000000</td>\n",
       "      <td>0.570000</td>\n",
       "      <td>4.155000</td>\n",
       "      <td>4807.145000</td>\n",
       "      <td>0.000000</td>\n",
       "      <td>5.000000</td>\n",
       "      <td>1.000000</td>\n",
       "      <td>5.000000</td>\n",
       "      <td>62992.500000</td>\n",
       "      <td>48.000000</td>\n",
       "    </tr>\n",
       "    <tr>\n",
       "      <th>75%</th>\n",
       "      <td>25.000000</td>\n",
       "      <td>0.807500</td>\n",
       "      <td>15.897500</td>\n",
       "      <td>7510.717500</td>\n",
       "      <td>0.000000</td>\n",
       "      <td>11.000000</td>\n",
       "      <td>12.750000</td>\n",
       "      <td>7.000000</td>\n",
       "      <td>135187.500000</td>\n",
       "      <td>65.400000</td>\n",
       "    </tr>\n",
       "    <tr>\n",
       "      <th>max</th>\n",
       "      <td>99.000000</td>\n",
       "      <td>1.760000</td>\n",
       "      <td>30761.430000</td>\n",
       "      <td>71300.000000</td>\n",
       "      <td>100.000000</td>\n",
       "      <td>92.000000</td>\n",
       "      <td>55.000000</td>\n",
       "      <td>450.000000</td>\n",
       "      <td>670000.000000</td>\n",
       "      <td>100.000000</td>\n",
       "    </tr>\n",
       "  </tbody>\n",
       "</table>\n",
       "</div>"
      ],
      "text/plain": [
       "       sales20092010  salesPriceCoefficientVariance   \\\n",
       "count     710.000000                      710.000000   \n",
       "mean       18.847887                        0.602648   \n",
       "std        14.839127                        0.307203   \n",
       "min         0.000000                        0.000000   \n",
       "25%         9.000000                        0.410000   \n",
       "50%        16.000000                        0.570000   \n",
       "75%        25.000000                        0.807500   \n",
       "max        99.000000                        1.760000   \n",
       "\n",
       "       commercialResidentialLandRatio  unitsPerSquareMile  residentialPermits  \\\n",
       "count                      710.000000          710.000000          710.000000   \n",
       "mean                       217.150817         5683.015211            0.616901   \n",
       "std                       1668.778867         4703.420167            4.037867   \n",
       "min                          0.000000            0.000000            0.000000   \n",
       "25%                          0.327500         2758.455000            0.000000   \n",
       "50%                          4.155000         4807.145000            0.000000   \n",
       "75%                         15.897500         7510.717500            0.000000   \n",
       "max                      30761.430000        71300.000000          100.000000   \n",
       "\n",
       "       vacantLots  vacantHouseNotices  foreclosureFilings  \\\n",
       "count  710.000000          710.000000          710.000000   \n",
       "mean     9.073239            7.405634            5.867606   \n",
       "std     12.361286           10.611167           17.069573   \n",
       "min      0.000000            0.000000            0.000000   \n",
       "25%      2.000000            0.000000            3.000000   \n",
       "50%      5.000000            1.000000            5.000000   \n",
       "75%     11.000000           12.750000            7.000000   \n",
       "max     92.000000           55.000000          450.000000   \n",
       "\n",
       "       medianSalesPrice20092010  ownerOccupied  \n",
       "count                710.000000     710.000000  \n",
       "mean               96691.235211      48.385493  \n",
       "std                99209.184736      22.763382  \n",
       "min                    0.000000       0.000000  \n",
       "25%                26062.500000      33.100000  \n",
       "50%                62992.500000      48.000000  \n",
       "75%               135187.500000      65.400000  \n",
       "max               670000.000000     100.000000  "
      ]
     },
     "execution_count": 117,
     "metadata": {},
     "output_type": "execute_result"
    }
   ],
   "source": [
    "housingTypologyDF.describe()"
   ]
  },
  {
   "cell_type": "markdown",
   "metadata": {},
   "source": [
    "#### Units per square mile should always be non-zero and positive"
   ]
  },
  {
   "cell_type": "code",
   "execution_count": 118,
   "metadata": {
    "collapsed": false,
    "scrolled": true
   },
   "outputs": [
    {
     "data": {
      "text/html": [
       "<div>\n",
       "<table border=\"1\" class=\"dataframe\">\n",
       "  <thead>\n",
       "    <tr style=\"text-align: right;\">\n",
       "      <th></th>\n",
       "      <th>marketCategory</th>\n",
       "      <th>sales20092010</th>\n",
       "      <th>salesPriceCoefficientVariance</th>\n",
       "      <th>commercialResidentialLandRatio</th>\n",
       "      <th>unitsPerSquareMile</th>\n",
       "      <th>residentialPermits</th>\n",
       "      <th>vacantLots</th>\n",
       "      <th>vacantHouseNotices</th>\n",
       "      <th>foreclosureFilings</th>\n",
       "      <th>medianSalesPrice20092010</th>\n",
       "      <th>ownerOccupied</th>\n",
       "    </tr>\n",
       "  </thead>\n",
       "  <tbody>\n",
       "    <tr>\n",
       "      <th>143</th>\n",
       "      <td>&gt;50 residential lots; &gt;50 % vacant lots</td>\n",
       "      <td>0</td>\n",
       "      <td>0.0</td>\n",
       "      <td>1.60</td>\n",
       "      <td>0.0</td>\n",
       "      <td>0.0</td>\n",
       "      <td>85.0</td>\n",
       "      <td>0.0</td>\n",
       "      <td>0.0</td>\n",
       "      <td>0.0</td>\n",
       "      <td>0.0</td>\n",
       "    </tr>\n",
       "    <tr>\n",
       "      <th>145</th>\n",
       "      <td>NR - Non-residential (&lt;50 residential lots)</td>\n",
       "      <td>0</td>\n",
       "      <td>0.0</td>\n",
       "      <td>0.36</td>\n",
       "      <td>0.0</td>\n",
       "      <td>0.0</td>\n",
       "      <td>0.0</td>\n",
       "      <td>0.0</td>\n",
       "      <td>0.0</td>\n",
       "      <td>0.0</td>\n",
       "      <td>0.0</td>\n",
       "    </tr>\n",
       "    <tr>\n",
       "      <th>159</th>\n",
       "      <td>&lt; 5 Sales; MultiFamily (&gt;65% of Housing Units)</td>\n",
       "      <td>0</td>\n",
       "      <td>0.0</td>\n",
       "      <td>0.00</td>\n",
       "      <td>0.0</td>\n",
       "      <td>0.0</td>\n",
       "      <td>20.0</td>\n",
       "      <td>0.0</td>\n",
       "      <td>0.0</td>\n",
       "      <td>0.0</td>\n",
       "      <td>0.0</td>\n",
       "    </tr>\n",
       "    <tr>\n",
       "      <th>329</th>\n",
       "      <td>NR - Non-residential (&lt;50 residential lots)</td>\n",
       "      <td>0</td>\n",
       "      <td>0.0</td>\n",
       "      <td>0.00</td>\n",
       "      <td>0.0</td>\n",
       "      <td>0.0</td>\n",
       "      <td>92.0</td>\n",
       "      <td>0.0</td>\n",
       "      <td>0.0</td>\n",
       "      <td>0.0</td>\n",
       "      <td>0.0</td>\n",
       "    </tr>\n",
       "    <tr>\n",
       "      <th>493</th>\n",
       "      <td>NR - Non-residential (&lt;50 residential lots)</td>\n",
       "      <td>0</td>\n",
       "      <td>0.0</td>\n",
       "      <td>0.00</td>\n",
       "      <td>0.0</td>\n",
       "      <td>0.0</td>\n",
       "      <td>0.0</td>\n",
       "      <td>0.0</td>\n",
       "      <td>0.0</td>\n",
       "      <td>0.0</td>\n",
       "      <td>0.0</td>\n",
       "    </tr>\n",
       "    <tr>\n",
       "      <th>502</th>\n",
       "      <td>NR - Non-residential (&lt;50 residential lots)</td>\n",
       "      <td>0</td>\n",
       "      <td>0.0</td>\n",
       "      <td>0.00</td>\n",
       "      <td>0.0</td>\n",
       "      <td>0.0</td>\n",
       "      <td>71.0</td>\n",
       "      <td>0.0</td>\n",
       "      <td>0.0</td>\n",
       "      <td>0.0</td>\n",
       "      <td>0.0</td>\n",
       "    </tr>\n",
       "    <tr>\n",
       "      <th>667</th>\n",
       "      <td>NR - Non-residential (&lt;50 residential lots)</td>\n",
       "      <td>0</td>\n",
       "      <td>0.0</td>\n",
       "      <td>0.00</td>\n",
       "      <td>0.0</td>\n",
       "      <td>0.0</td>\n",
       "      <td>0.0</td>\n",
       "      <td>0.0</td>\n",
       "      <td>0.0</td>\n",
       "      <td>0.0</td>\n",
       "      <td>0.0</td>\n",
       "    </tr>\n",
       "    <tr>\n",
       "      <th>709</th>\n",
       "      <td>NR - Non-residential (&lt;50 residential lots)</td>\n",
       "      <td>0</td>\n",
       "      <td>0.0</td>\n",
       "      <td>0.00</td>\n",
       "      <td>0.0</td>\n",
       "      <td>0.0</td>\n",
       "      <td>0.0</td>\n",
       "      <td>0.0</td>\n",
       "      <td>0.0</td>\n",
       "      <td>0.0</td>\n",
       "      <td>0.0</td>\n",
       "    </tr>\n",
       "  </tbody>\n",
       "</table>\n",
       "</div>"
      ],
      "text/plain": [
       "                                     marketCategory  sales20092010  \\\n",
       "143         >50 residential lots; >50 % vacant lots              0   \n",
       "145     NR - Non-residential (<50 residential lots)              0   \n",
       "159  < 5 Sales; MultiFamily (>65% of Housing Units)              0   \n",
       "329     NR - Non-residential (<50 residential lots)              0   \n",
       "493     NR - Non-residential (<50 residential lots)              0   \n",
       "502     NR - Non-residential (<50 residential lots)              0   \n",
       "667     NR - Non-residential (<50 residential lots)              0   \n",
       "709     NR - Non-residential (<50 residential lots)              0   \n",
       "\n",
       "     salesPriceCoefficientVariance   commercialResidentialLandRatio  \\\n",
       "143                             0.0                            1.60   \n",
       "145                             0.0                            0.36   \n",
       "159                             0.0                            0.00   \n",
       "329                             0.0                            0.00   \n",
       "493                             0.0                            0.00   \n",
       "502                             0.0                            0.00   \n",
       "667                             0.0                            0.00   \n",
       "709                             0.0                            0.00   \n",
       "\n",
       "     unitsPerSquareMile  residentialPermits  vacantLots  vacantHouseNotices  \\\n",
       "143                 0.0                 0.0        85.0                 0.0   \n",
       "145                 0.0                 0.0         0.0                 0.0   \n",
       "159                 0.0                 0.0        20.0                 0.0   \n",
       "329                 0.0                 0.0        92.0                 0.0   \n",
       "493                 0.0                 0.0         0.0                 0.0   \n",
       "502                 0.0                 0.0        71.0                 0.0   \n",
       "667                 0.0                 0.0         0.0                 0.0   \n",
       "709                 0.0                 0.0         0.0                 0.0   \n",
       "\n",
       "     foreclosureFilings  medianSalesPrice20092010  ownerOccupied  \n",
       "143                 0.0                       0.0            0.0  \n",
       "145                 0.0                       0.0            0.0  \n",
       "159                 0.0                       0.0            0.0  \n",
       "329                 0.0                       0.0            0.0  \n",
       "493                 0.0                       0.0            0.0  \n",
       "502                 0.0                       0.0            0.0  \n",
       "667                 0.0                       0.0            0.0  \n",
       "709                 0.0                       0.0            0.0  "
      ]
     },
     "execution_count": 118,
     "metadata": {},
     "output_type": "execute_result"
    }
   ],
   "source": [
    "housingTypologyDF[housingTypologyDF.unitsPerSquareMile==0]"
   ]
  },
  {
   "cell_type": "code",
   "execution_count": 119,
   "metadata": {
    "collapsed": true
   },
   "outputs": [],
   "source": [
    "# Eliminate the rows we see above. They appear to be incorrect/missing data.\n",
    "rowIndicesToDelete = housingTypologyDF[housingTypologyDF.unitsPerSquareMile==0].index.get_values().tolist()\n",
    "housingTypologyDF.drop(rowIndicesToDelete, inplace=True)"
   ]
  },
  {
   "cell_type": "markdown",
   "metadata": {},
   "source": [
    "#### Making sure median sale price is zero only in case no units were sold in the block"
   ]
  },
  {
   "cell_type": "code",
   "execution_count": 120,
   "metadata": {
    "collapsed": false,
    "scrolled": true
   },
   "outputs": [
    {
     "data": {
      "text/html": [
       "<div>\n",
       "<table border=\"1\" class=\"dataframe\">\n",
       "  <thead>\n",
       "    <tr style=\"text-align: right;\">\n",
       "      <th></th>\n",
       "      <th>marketCategory</th>\n",
       "      <th>sales20092010</th>\n",
       "      <th>salesPriceCoefficientVariance</th>\n",
       "      <th>commercialResidentialLandRatio</th>\n",
       "      <th>unitsPerSquareMile</th>\n",
       "      <th>residentialPermits</th>\n",
       "      <th>vacantLots</th>\n",
       "      <th>vacantHouseNotices</th>\n",
       "      <th>foreclosureFilings</th>\n",
       "      <th>medianSalesPrice20092010</th>\n",
       "      <th>ownerOccupied</th>\n",
       "    </tr>\n",
       "  </thead>\n",
       "  <tbody>\n",
       "    <tr>\n",
       "      <th>25</th>\n",
       "      <td>&lt; 5 Sales; MultiFamily (&gt;65% of Housing Units)</td>\n",
       "      <td>0</td>\n",
       "      <td>0.0</td>\n",
       "      <td>0.89</td>\n",
       "      <td>3350.00</td>\n",
       "      <td>0.0</td>\n",
       "      <td>6.0</td>\n",
       "      <td>0.0</td>\n",
       "      <td>5.0</td>\n",
       "      <td>0.0</td>\n",
       "      <td>15.7</td>\n",
       "    </tr>\n",
       "    <tr>\n",
       "      <th>26</th>\n",
       "      <td>&lt; 5 Sales; MultiFamily (&gt;65% of Housing Units)</td>\n",
       "      <td>0</td>\n",
       "      <td>0.0</td>\n",
       "      <td>0.24</td>\n",
       "      <td>9553.33</td>\n",
       "      <td>0.0</td>\n",
       "      <td>12.0</td>\n",
       "      <td>1.0</td>\n",
       "      <td>21.0</td>\n",
       "      <td>0.0</td>\n",
       "      <td>0.1</td>\n",
       "    </tr>\n",
       "    <tr>\n",
       "      <th>27</th>\n",
       "      <td>&lt; 5 Sales; MultiFamily (&gt;65% of Housing Units)</td>\n",
       "      <td>0</td>\n",
       "      <td>0.0</td>\n",
       "      <td>0.09</td>\n",
       "      <td>483.33</td>\n",
       "      <td>0.0</td>\n",
       "      <td>14.0</td>\n",
       "      <td>1.0</td>\n",
       "      <td>0.0</td>\n",
       "      <td>0.0</td>\n",
       "      <td>4.4</td>\n",
       "    </tr>\n",
       "    <tr>\n",
       "      <th>28</th>\n",
       "      <td>&lt; 5 Sales; MultiFamily (&gt;65% of Housing Units)</td>\n",
       "      <td>0</td>\n",
       "      <td>0.0</td>\n",
       "      <td>1.73</td>\n",
       "      <td>2390.91</td>\n",
       "      <td>2.0</td>\n",
       "      <td>15.0</td>\n",
       "      <td>0.0</td>\n",
       "      <td>0.0</td>\n",
       "      <td>0.0</td>\n",
       "      <td>0.0</td>\n",
       "    </tr>\n",
       "    <tr>\n",
       "      <th>29</th>\n",
       "      <td>&lt; 5 Residential Sales (2009-2010)</td>\n",
       "      <td>0</td>\n",
       "      <td>0.0</td>\n",
       "      <td>0.24</td>\n",
       "      <td>6.25</td>\n",
       "      <td>0.0</td>\n",
       "      <td>7.0</td>\n",
       "      <td>0.0</td>\n",
       "      <td>0.0</td>\n",
       "      <td>0.0</td>\n",
       "      <td>0.0</td>\n",
       "    </tr>\n",
       "    <tr>\n",
       "      <th>31</th>\n",
       "      <td>NR - Non-residential (&lt;50 residential lots)</td>\n",
       "      <td>0</td>\n",
       "      <td>0.0</td>\n",
       "      <td>0.00</td>\n",
       "      <td>4566.67</td>\n",
       "      <td>0.0</td>\n",
       "      <td>3.0</td>\n",
       "      <td>3.0</td>\n",
       "      <td>4.0</td>\n",
       "      <td>0.0</td>\n",
       "      <td>9.4</td>\n",
       "    </tr>\n",
       "    <tr>\n",
       "      <th>46</th>\n",
       "      <td>&lt; 5 Sales; MultiFamily (&gt;65% of Housing Units)</td>\n",
       "      <td>0</td>\n",
       "      <td>0.0</td>\n",
       "      <td>0.78</td>\n",
       "      <td>7263.64</td>\n",
       "      <td>3.0</td>\n",
       "      <td>17.0</td>\n",
       "      <td>0.0</td>\n",
       "      <td>0.0</td>\n",
       "      <td>0.0</td>\n",
       "      <td>0.0</td>\n",
       "    </tr>\n",
       "    <tr>\n",
       "      <th>58</th>\n",
       "      <td>&gt;50 residential lots; &gt;50 % vacant lots</td>\n",
       "      <td>0</td>\n",
       "      <td>0.0</td>\n",
       "      <td>0.00</td>\n",
       "      <td>3075.00</td>\n",
       "      <td>0.0</td>\n",
       "      <td>90.0</td>\n",
       "      <td>0.0</td>\n",
       "      <td>0.0</td>\n",
       "      <td>0.0</td>\n",
       "      <td>0.0</td>\n",
       "    </tr>\n",
       "    <tr>\n",
       "      <th>99</th>\n",
       "      <td>&gt;50 residential lots; &gt;50 % vacant lots</td>\n",
       "      <td>0</td>\n",
       "      <td>0.0</td>\n",
       "      <td>0.00</td>\n",
       "      <td>2450.00</td>\n",
       "      <td>22.0</td>\n",
       "      <td>72.0</td>\n",
       "      <td>1.0</td>\n",
       "      <td>2.0</td>\n",
       "      <td>0.0</td>\n",
       "      <td>24.9</td>\n",
       "    </tr>\n",
       "    <tr>\n",
       "      <th>144</th>\n",
       "      <td>&lt; 5 Sales; MultiFamily (&gt;65% of Housing Units)</td>\n",
       "      <td>0</td>\n",
       "      <td>0.0</td>\n",
       "      <td>208.94</td>\n",
       "      <td>71300.00</td>\n",
       "      <td>100.0</td>\n",
       "      <td>0.0</td>\n",
       "      <td>0.0</td>\n",
       "      <td>0.0</td>\n",
       "      <td>0.0</td>\n",
       "      <td>0.0</td>\n",
       "    </tr>\n",
       "    <tr>\n",
       "      <th>147</th>\n",
       "      <td>&gt;50 residential lots; &gt;50 % vacant lots</td>\n",
       "      <td>0</td>\n",
       "      <td>0.0</td>\n",
       "      <td>0.32</td>\n",
       "      <td>375.00</td>\n",
       "      <td>0.0</td>\n",
       "      <td>55.0</td>\n",
       "      <td>13.0</td>\n",
       "      <td>14.0</td>\n",
       "      <td>0.0</td>\n",
       "      <td>20.5</td>\n",
       "    </tr>\n",
       "    <tr>\n",
       "      <th>172</th>\n",
       "      <td>NR - Non-residential (&lt;50 residential lots)</td>\n",
       "      <td>0</td>\n",
       "      <td>0.0</td>\n",
       "      <td>0.00</td>\n",
       "      <td>20.00</td>\n",
       "      <td>0.0</td>\n",
       "      <td>6.0</td>\n",
       "      <td>0.0</td>\n",
       "      <td>0.0</td>\n",
       "      <td>0.0</td>\n",
       "      <td>100.0</td>\n",
       "    </tr>\n",
       "    <tr>\n",
       "      <th>175</th>\n",
       "      <td>&lt; 5 Sales; MultiFamily (&gt;65% of Housing Units)</td>\n",
       "      <td>0</td>\n",
       "      <td>0.0</td>\n",
       "      <td>0.11</td>\n",
       "      <td>7542.86</td>\n",
       "      <td>1.0</td>\n",
       "      <td>8.0</td>\n",
       "      <td>2.0</td>\n",
       "      <td>18.0</td>\n",
       "      <td>0.0</td>\n",
       "      <td>0.9</td>\n",
       "    </tr>\n",
       "    <tr>\n",
       "      <th>336</th>\n",
       "      <td>&lt; 5 Sales; MultiFamily (&gt;65% of Housing Units)</td>\n",
       "      <td>0</td>\n",
       "      <td>0.0</td>\n",
       "      <td>4.97</td>\n",
       "      <td>26255.56</td>\n",
       "      <td>11.0</td>\n",
       "      <td>5.0</td>\n",
       "      <td>0.0</td>\n",
       "      <td>50.0</td>\n",
       "      <td>0.0</td>\n",
       "      <td>0.0</td>\n",
       "    </tr>\n",
       "    <tr>\n",
       "      <th>427</th>\n",
       "      <td>NR - Non-residential (&lt;50 residential lots)</td>\n",
       "      <td>0</td>\n",
       "      <td>0.0</td>\n",
       "      <td>56.39</td>\n",
       "      <td>7369.23</td>\n",
       "      <td>3.0</td>\n",
       "      <td>3.0</td>\n",
       "      <td>0.0</td>\n",
       "      <td>3.0</td>\n",
       "      <td>0.0</td>\n",
       "      <td>5.2</td>\n",
       "    </tr>\n",
       "    <tr>\n",
       "      <th>429</th>\n",
       "      <td>NR - Non-residential (&lt;50 residential lots)</td>\n",
       "      <td>0</td>\n",
       "      <td>0.0</td>\n",
       "      <td>9.28</td>\n",
       "      <td>25.00</td>\n",
       "      <td>0.0</td>\n",
       "      <td>0.0</td>\n",
       "      <td>0.0</td>\n",
       "      <td>0.0</td>\n",
       "      <td>0.0</td>\n",
       "      <td>100.0</td>\n",
       "    </tr>\n",
       "    <tr>\n",
       "      <th>438</th>\n",
       "      <td>&lt; 5 Sales; MultiFamily (&gt;65% of Housing Units)</td>\n",
       "      <td>0</td>\n",
       "      <td>0.0</td>\n",
       "      <td>13.79</td>\n",
       "      <td>2788.89</td>\n",
       "      <td>0.0</td>\n",
       "      <td>20.0</td>\n",
       "      <td>0.0</td>\n",
       "      <td>17.0</td>\n",
       "      <td>0.0</td>\n",
       "      <td>1.7</td>\n",
       "    </tr>\n",
       "    <tr>\n",
       "      <th>457</th>\n",
       "      <td>&gt;50 residential lots; &gt;40 % vacant lots</td>\n",
       "      <td>0</td>\n",
       "      <td>0.0</td>\n",
       "      <td>0.00</td>\n",
       "      <td>1.05</td>\n",
       "      <td>0.0</td>\n",
       "      <td>46.0</td>\n",
       "      <td>0.0</td>\n",
       "      <td>20.0</td>\n",
       "      <td>0.0</td>\n",
       "      <td>0.0</td>\n",
       "    </tr>\n",
       "    <tr>\n",
       "      <th>490</th>\n",
       "      <td>&gt;50 residential lots; &gt;40 % vacant lots</td>\n",
       "      <td>0</td>\n",
       "      <td>0.0</td>\n",
       "      <td>1.41</td>\n",
       "      <td>197.87</td>\n",
       "      <td>0.0</td>\n",
       "      <td>44.0</td>\n",
       "      <td>0.0</td>\n",
       "      <td>3.0</td>\n",
       "      <td>0.0</td>\n",
       "      <td>29.4</td>\n",
       "    </tr>\n",
       "    <tr>\n",
       "      <th>491</th>\n",
       "      <td>NR - Non-residential (&lt;50 residential lots)</td>\n",
       "      <td>0</td>\n",
       "      <td>0.0</td>\n",
       "      <td>0.00</td>\n",
       "      <td>10.53</td>\n",
       "      <td>0.0</td>\n",
       "      <td>0.0</td>\n",
       "      <td>0.0</td>\n",
       "      <td>0.0</td>\n",
       "      <td>0.0</td>\n",
       "      <td>0.0</td>\n",
       "    </tr>\n",
       "    <tr>\n",
       "      <th>492</th>\n",
       "      <td>NR - Non-residential (&lt;50 residential lots)</td>\n",
       "      <td>0</td>\n",
       "      <td>0.0</td>\n",
       "      <td>23.37</td>\n",
       "      <td>6.67</td>\n",
       "      <td>0.0</td>\n",
       "      <td>34.0</td>\n",
       "      <td>0.0</td>\n",
       "      <td>0.0</td>\n",
       "      <td>0.0</td>\n",
       "      <td>0.0</td>\n",
       "    </tr>\n",
       "    <tr>\n",
       "      <th>497</th>\n",
       "      <td>NR - Non-residential (&lt;50 residential lots)</td>\n",
       "      <td>0</td>\n",
       "      <td>0.0</td>\n",
       "      <td>0.00</td>\n",
       "      <td>13.33</td>\n",
       "      <td>0.0</td>\n",
       "      <td>90.0</td>\n",
       "      <td>0.0</td>\n",
       "      <td>450.0</td>\n",
       "      <td>0.0</td>\n",
       "      <td>0.0</td>\n",
       "    </tr>\n",
       "    <tr>\n",
       "      <th>566</th>\n",
       "      <td>&lt; 5 Sales; MultiFamily (&gt;65% of Housing Units)</td>\n",
       "      <td>0</td>\n",
       "      <td>0.0</td>\n",
       "      <td>5.45</td>\n",
       "      <td>8960.00</td>\n",
       "      <td>13.0</td>\n",
       "      <td>0.0</td>\n",
       "      <td>0.0</td>\n",
       "      <td>0.0</td>\n",
       "      <td>0.0</td>\n",
       "      <td>0.0</td>\n",
       "    </tr>\n",
       "    <tr>\n",
       "      <th>567</th>\n",
       "      <td>&lt; 5 Sales; MultiFamily (&gt;65% of Housing Units)</td>\n",
       "      <td>0</td>\n",
       "      <td>0.0</td>\n",
       "      <td>229.43</td>\n",
       "      <td>9740.00</td>\n",
       "      <td>0.0</td>\n",
       "      <td>33.0</td>\n",
       "      <td>0.0</td>\n",
       "      <td>0.0</td>\n",
       "      <td>0.0</td>\n",
       "      <td>0.0</td>\n",
       "    </tr>\n",
       "  </tbody>\n",
       "</table>\n",
       "</div>"
      ],
      "text/plain": [
       "                                     marketCategory  sales20092010  \\\n",
       "25   < 5 Sales; MultiFamily (>65% of Housing Units)              0   \n",
       "26   < 5 Sales; MultiFamily (>65% of Housing Units)              0   \n",
       "27   < 5 Sales; MultiFamily (>65% of Housing Units)              0   \n",
       "28   < 5 Sales; MultiFamily (>65% of Housing Units)              0   \n",
       "29                < 5 Residential Sales (2009-2010)              0   \n",
       "31      NR - Non-residential (<50 residential lots)              0   \n",
       "46   < 5 Sales; MultiFamily (>65% of Housing Units)              0   \n",
       "58          >50 residential lots; >50 % vacant lots              0   \n",
       "99          >50 residential lots; >50 % vacant lots              0   \n",
       "144  < 5 Sales; MultiFamily (>65% of Housing Units)              0   \n",
       "147         >50 residential lots; >50 % vacant lots              0   \n",
       "172     NR - Non-residential (<50 residential lots)              0   \n",
       "175  < 5 Sales; MultiFamily (>65% of Housing Units)              0   \n",
       "336  < 5 Sales; MultiFamily (>65% of Housing Units)              0   \n",
       "427     NR - Non-residential (<50 residential lots)              0   \n",
       "429     NR - Non-residential (<50 residential lots)              0   \n",
       "438  < 5 Sales; MultiFamily (>65% of Housing Units)              0   \n",
       "457         >50 residential lots; >40 % vacant lots              0   \n",
       "490         >50 residential lots; >40 % vacant lots              0   \n",
       "491     NR - Non-residential (<50 residential lots)              0   \n",
       "492     NR - Non-residential (<50 residential lots)              0   \n",
       "497     NR - Non-residential (<50 residential lots)              0   \n",
       "566  < 5 Sales; MultiFamily (>65% of Housing Units)              0   \n",
       "567  < 5 Sales; MultiFamily (>65% of Housing Units)              0   \n",
       "\n",
       "     salesPriceCoefficientVariance   commercialResidentialLandRatio  \\\n",
       "25                              0.0                            0.89   \n",
       "26                              0.0                            0.24   \n",
       "27                              0.0                            0.09   \n",
       "28                              0.0                            1.73   \n",
       "29                              0.0                            0.24   \n",
       "31                              0.0                            0.00   \n",
       "46                              0.0                            0.78   \n",
       "58                              0.0                            0.00   \n",
       "99                              0.0                            0.00   \n",
       "144                             0.0                          208.94   \n",
       "147                             0.0                            0.32   \n",
       "172                             0.0                            0.00   \n",
       "175                             0.0                            0.11   \n",
       "336                             0.0                            4.97   \n",
       "427                             0.0                           56.39   \n",
       "429                             0.0                            9.28   \n",
       "438                             0.0                           13.79   \n",
       "457                             0.0                            0.00   \n",
       "490                             0.0                            1.41   \n",
       "491                             0.0                            0.00   \n",
       "492                             0.0                           23.37   \n",
       "497                             0.0                            0.00   \n",
       "566                             0.0                            5.45   \n",
       "567                             0.0                          229.43   \n",
       "\n",
       "     unitsPerSquareMile  residentialPermits  vacantLots  vacantHouseNotices  \\\n",
       "25              3350.00                 0.0         6.0                 0.0   \n",
       "26              9553.33                 0.0        12.0                 1.0   \n",
       "27               483.33                 0.0        14.0                 1.0   \n",
       "28              2390.91                 2.0        15.0                 0.0   \n",
       "29                 6.25                 0.0         7.0                 0.0   \n",
       "31              4566.67                 0.0         3.0                 3.0   \n",
       "46              7263.64                 3.0        17.0                 0.0   \n",
       "58              3075.00                 0.0        90.0                 0.0   \n",
       "99              2450.00                22.0        72.0                 1.0   \n",
       "144            71300.00               100.0         0.0                 0.0   \n",
       "147              375.00                 0.0        55.0                13.0   \n",
       "172               20.00                 0.0         6.0                 0.0   \n",
       "175             7542.86                 1.0         8.0                 2.0   \n",
       "336            26255.56                11.0         5.0                 0.0   \n",
       "427             7369.23                 3.0         3.0                 0.0   \n",
       "429               25.00                 0.0         0.0                 0.0   \n",
       "438             2788.89                 0.0        20.0                 0.0   \n",
       "457                1.05                 0.0        46.0                 0.0   \n",
       "490              197.87                 0.0        44.0                 0.0   \n",
       "491               10.53                 0.0         0.0                 0.0   \n",
       "492                6.67                 0.0        34.0                 0.0   \n",
       "497               13.33                 0.0        90.0                 0.0   \n",
       "566             8960.00                13.0         0.0                 0.0   \n",
       "567             9740.00                 0.0        33.0                 0.0   \n",
       "\n",
       "     foreclosureFilings  medianSalesPrice20092010  ownerOccupied  \n",
       "25                  5.0                       0.0           15.7  \n",
       "26                 21.0                       0.0            0.1  \n",
       "27                  0.0                       0.0            4.4  \n",
       "28                  0.0                       0.0            0.0  \n",
       "29                  0.0                       0.0            0.0  \n",
       "31                  4.0                       0.0            9.4  \n",
       "46                  0.0                       0.0            0.0  \n",
       "58                  0.0                       0.0            0.0  \n",
       "99                  2.0                       0.0           24.9  \n",
       "144                 0.0                       0.0            0.0  \n",
       "147                14.0                       0.0           20.5  \n",
       "172                 0.0                       0.0          100.0  \n",
       "175                18.0                       0.0            0.9  \n",
       "336                50.0                       0.0            0.0  \n",
       "427                 3.0                       0.0            5.2  \n",
       "429                 0.0                       0.0          100.0  \n",
       "438                17.0                       0.0            1.7  \n",
       "457                20.0                       0.0            0.0  \n",
       "490                 3.0                       0.0           29.4  \n",
       "491                 0.0                       0.0            0.0  \n",
       "492                 0.0                       0.0            0.0  \n",
       "497               450.0                       0.0            0.0  \n",
       "566                 0.0                       0.0            0.0  \n",
       "567                 0.0                       0.0            0.0  "
      ]
     },
     "execution_count": 120,
     "metadata": {},
     "output_type": "execute_result"
    }
   ],
   "source": [
    "housingTypologyDF[housingTypologyDF.medianSalesPrice20092010==0]"
   ]
  },
  {
   "cell_type": "markdown",
   "metadata": {},
   "source": [
    "#### Compute histogram for blocks per market category"
   ]
  },
  {
   "cell_type": "code",
   "execution_count": 121,
   "metadata": {
    "collapsed": false,
    "scrolled": true
   },
   "outputs": [
    {
     "data": {
      "text/plain": [
       "Distressed                                        209\n",
       "Middle Market Choice                              117\n",
       "Middle Market Stressed                            114\n",
       "Regional Choice                                    94\n",
       "Middle Market                                      92\n",
       "< 5 Residential Sales (2009-2010)                  30\n",
       "< 5 Sales; MultiFamily (>65% of Housing Units)     27\n",
       ">50 residential lots; >40 % vacant lots             8\n",
       "NR - Non-residential (<50 residential lots)         7\n",
       ">50 residential lots; >50 % vacant lots             4\n",
       "Name: marketCategory, dtype: int64"
      ]
     },
     "execution_count": 121,
     "metadata": {},
     "output_type": "execute_result"
    }
   ],
   "source": [
    "housingTypologyDF.marketCategory.value_counts()"
   ]
  },
  {
   "cell_type": "markdown",
   "metadata": {},
   "source": [
    "#### Merging the tail end of market categories into a new, single category\n",
    "The long tail looks like categories for areas where there aren't many sales (hypothesis: either because people dont like those blocks or there aren't many residential properties or residential properties aren't up for sale on the market). Merging all these low count categories into a single category 'Other' should eliminate the long tail."
   ]
  },
  {
   "cell_type": "code",
   "execution_count": 122,
   "metadata": {
    "collapsed": false
   },
   "outputs": [
    {
     "data": {
      "text/plain": [
       "Distressed                209\n",
       "Middle Market Choice      117\n",
       "Middle Market Stressed    114\n",
       "Regional Choice            94\n",
       "Middle Market              92\n",
       "Name: marketCategory, dtype: int64"
      ]
     },
     "execution_count": 122,
     "metadata": {},
     "output_type": "execute_result"
    }
   ],
   "source": [
    "housingTypologyDF.marketCategory.cat.add_categories('Other', inplace=True)\n",
    "housingTypologyDF.marketCategory.cat.add_categories('Low Sales', inplace=True)\n",
    "housingTypologyDF.marketCategory.replace({'< 5 Residential Sales (2009-2010)': 'Other', \n",
    "                              '< 5 Sales; MultiFamily (>65% of Housing Units)':'Other',\n",
    "                             'NR - Non-residential (<50 residential lots)':'Other',\n",
    "                             '>50 residential lots; >40 % vacant lots':'Other',\n",
    "                             '>50 residential lots; >50 % vacant lots':'Other'}, inplace=True)\n",
    "housingTypologyDF = housingTypologyDF[housingTypologyDF.marketCategory!='Other']\n",
    "housingTypologyDF.marketCategory.cat.remove_unused_categories(inplace=True)\n",
    "\n",
    "housingTypologyDF.marketCategory.value_counts()"
   ]
  },
  {
   "cell_type": "markdown",
   "metadata": {},
   "source": [
    "#### Compute the correlation matrix for numeric features"
   ]
  },
  {
   "cell_type": "code",
   "execution_count": 123,
   "metadata": {
    "collapsed": false,
    "scrolled": false
   },
   "outputs": [
    {
     "data": {
      "text/html": [
       "<div>\n",
       "<table border=\"1\" class=\"dataframe\">\n",
       "  <thead>\n",
       "    <tr style=\"text-align: right;\">\n",
       "      <th></th>\n",
       "      <th>sales20092010</th>\n",
       "      <th>salesPriceCoefficientVariance</th>\n",
       "      <th>commercialResidentialLandRatio</th>\n",
       "      <th>unitsPerSquareMile</th>\n",
       "      <th>residentialPermits</th>\n",
       "      <th>vacantLots</th>\n",
       "      <th>vacantHouseNotices</th>\n",
       "      <th>foreclosureFilings</th>\n",
       "      <th>medianSalesPrice20092010</th>\n",
       "      <th>ownerOccupied</th>\n",
       "    </tr>\n",
       "  </thead>\n",
       "  <tbody>\n",
       "    <tr>\n",
       "      <th>sales20092010</th>\n",
       "      <td>1.000000</td>\n",
       "      <td>-0.142799</td>\n",
       "      <td>0.094264</td>\n",
       "      <td>0.313487</td>\n",
       "      <td>0.001093</td>\n",
       "      <td>-0.258139</td>\n",
       "      <td>-0.176083</td>\n",
       "      <td>0.075347</td>\n",
       "      <td>0.173144</td>\n",
       "      <td>0.220415</td>\n",
       "    </tr>\n",
       "    <tr>\n",
       "      <th>salesPriceCoefficientVariance</th>\n",
       "      <td>-0.142799</td>\n",
       "      <td>1.000000</td>\n",
       "      <td>-0.025556</td>\n",
       "      <td>0.019180</td>\n",
       "      <td>0.036148</td>\n",
       "      <td>0.335922</td>\n",
       "      <td>0.642672</td>\n",
       "      <td>0.250703</td>\n",
       "      <td>-0.569253</td>\n",
       "      <td>-0.436396</td>\n",
       "    </tr>\n",
       "    <tr>\n",
       "      <th>commercialResidentialLandRatio</th>\n",
       "      <td>0.094264</td>\n",
       "      <td>-0.025556</td>\n",
       "      <td>1.000000</td>\n",
       "      <td>0.098091</td>\n",
       "      <td>-0.021662</td>\n",
       "      <td>-0.027280</td>\n",
       "      <td>0.002470</td>\n",
       "      <td>-0.037405</td>\n",
       "      <td>0.007333</td>\n",
       "      <td>0.061816</td>\n",
       "    </tr>\n",
       "    <tr>\n",
       "      <th>unitsPerSquareMile</th>\n",
       "      <td>0.313487</td>\n",
       "      <td>0.019180</td>\n",
       "      <td>0.098091</td>\n",
       "      <td>1.000000</td>\n",
       "      <td>0.105700</td>\n",
       "      <td>-0.228818</td>\n",
       "      <td>0.023829</td>\n",
       "      <td>0.027270</td>\n",
       "      <td>0.017630</td>\n",
       "      <td>-0.283690</td>\n",
       "    </tr>\n",
       "    <tr>\n",
       "      <th>residentialPermits</th>\n",
       "      <td>0.001093</td>\n",
       "      <td>0.036148</td>\n",
       "      <td>-0.021662</td>\n",
       "      <td>0.105700</td>\n",
       "      <td>1.000000</td>\n",
       "      <td>0.177227</td>\n",
       "      <td>0.072779</td>\n",
       "      <td>-0.117744</td>\n",
       "      <td>0.178610</td>\n",
       "      <td>-0.178138</td>\n",
       "    </tr>\n",
       "    <tr>\n",
       "      <th>vacantLots</th>\n",
       "      <td>-0.258139</td>\n",
       "      <td>0.335922</td>\n",
       "      <td>-0.027280</td>\n",
       "      <td>-0.228818</td>\n",
       "      <td>0.177227</td>\n",
       "      <td>1.000000</td>\n",
       "      <td>0.430758</td>\n",
       "      <td>-0.018643</td>\n",
       "      <td>-0.232977</td>\n",
       "      <td>-0.362881</td>\n",
       "    </tr>\n",
       "    <tr>\n",
       "      <th>vacantHouseNotices</th>\n",
       "      <td>-0.176083</td>\n",
       "      <td>0.642672</td>\n",
       "      <td>0.002470</td>\n",
       "      <td>0.023829</td>\n",
       "      <td>0.072779</td>\n",
       "      <td>0.430758</td>\n",
       "      <td>1.000000</td>\n",
       "      <td>0.055096</td>\n",
       "      <td>-0.510731</td>\n",
       "      <td>-0.509959</td>\n",
       "    </tr>\n",
       "    <tr>\n",
       "      <th>foreclosureFilings</th>\n",
       "      <td>0.075347</td>\n",
       "      <td>0.250703</td>\n",
       "      <td>-0.037405</td>\n",
       "      <td>0.027270</td>\n",
       "      <td>-0.117744</td>\n",
       "      <td>-0.018643</td>\n",
       "      <td>0.055096</td>\n",
       "      <td>1.000000</td>\n",
       "      <td>-0.400000</td>\n",
       "      <td>-0.152669</td>\n",
       "    </tr>\n",
       "    <tr>\n",
       "      <th>medianSalesPrice20092010</th>\n",
       "      <td>0.173144</td>\n",
       "      <td>-0.569253</td>\n",
       "      <td>0.007333</td>\n",
       "      <td>0.017630</td>\n",
       "      <td>0.178610</td>\n",
       "      <td>-0.232977</td>\n",
       "      <td>-0.510731</td>\n",
       "      <td>-0.400000</td>\n",
       "      <td>1.000000</td>\n",
       "      <td>0.323228</td>\n",
       "    </tr>\n",
       "    <tr>\n",
       "      <th>ownerOccupied</th>\n",
       "      <td>0.220415</td>\n",
       "      <td>-0.436396</td>\n",
       "      <td>0.061816</td>\n",
       "      <td>-0.283690</td>\n",
       "      <td>-0.178138</td>\n",
       "      <td>-0.362881</td>\n",
       "      <td>-0.509959</td>\n",
       "      <td>-0.152669</td>\n",
       "      <td>0.323228</td>\n",
       "      <td>1.000000</td>\n",
       "    </tr>\n",
       "  </tbody>\n",
       "</table>\n",
       "</div>"
      ],
      "text/plain": [
       "                                sales20092010  salesPriceCoefficientVariance   \\\n",
       "sales20092010                        1.000000                       -0.142799   \n",
       "salesPriceCoefficientVariance       -0.142799                        1.000000   \n",
       "commercialResidentialLandRatio       0.094264                       -0.025556   \n",
       "unitsPerSquareMile                   0.313487                        0.019180   \n",
       "residentialPermits                   0.001093                        0.036148   \n",
       "vacantLots                          -0.258139                        0.335922   \n",
       "vacantHouseNotices                  -0.176083                        0.642672   \n",
       "foreclosureFilings                   0.075347                        0.250703   \n",
       "medianSalesPrice20092010             0.173144                       -0.569253   \n",
       "ownerOccupied                        0.220415                       -0.436396   \n",
       "\n",
       "                                commercialResidentialLandRatio  \\\n",
       "sales20092010                                         0.094264   \n",
       "salesPriceCoefficientVariance                        -0.025556   \n",
       "commercialResidentialLandRatio                        1.000000   \n",
       "unitsPerSquareMile                                    0.098091   \n",
       "residentialPermits                                   -0.021662   \n",
       "vacantLots                                           -0.027280   \n",
       "vacantHouseNotices                                    0.002470   \n",
       "foreclosureFilings                                   -0.037405   \n",
       "medianSalesPrice20092010                              0.007333   \n",
       "ownerOccupied                                         0.061816   \n",
       "\n",
       "                                unitsPerSquareMile  residentialPermits  \\\n",
       "sales20092010                             0.313487            0.001093   \n",
       "salesPriceCoefficientVariance             0.019180            0.036148   \n",
       "commercialResidentialLandRatio            0.098091           -0.021662   \n",
       "unitsPerSquareMile                        1.000000            0.105700   \n",
       "residentialPermits                        0.105700            1.000000   \n",
       "vacantLots                               -0.228818            0.177227   \n",
       "vacantHouseNotices                        0.023829            0.072779   \n",
       "foreclosureFilings                        0.027270           -0.117744   \n",
       "medianSalesPrice20092010                  0.017630            0.178610   \n",
       "ownerOccupied                            -0.283690           -0.178138   \n",
       "\n",
       "                                vacantLots  vacantHouseNotices  \\\n",
       "sales20092010                    -0.258139           -0.176083   \n",
       "salesPriceCoefficientVariance     0.335922            0.642672   \n",
       "commercialResidentialLandRatio   -0.027280            0.002470   \n",
       "unitsPerSquareMile               -0.228818            0.023829   \n",
       "residentialPermits                0.177227            0.072779   \n",
       "vacantLots                        1.000000            0.430758   \n",
       "vacantHouseNotices                0.430758            1.000000   \n",
       "foreclosureFilings               -0.018643            0.055096   \n",
       "medianSalesPrice20092010         -0.232977           -0.510731   \n",
       "ownerOccupied                    -0.362881           -0.509959   \n",
       "\n",
       "                                foreclosureFilings  medianSalesPrice20092010  \\\n",
       "sales20092010                             0.075347                  0.173144   \n",
       "salesPriceCoefficientVariance             0.250703                 -0.569253   \n",
       "commercialResidentialLandRatio           -0.037405                  0.007333   \n",
       "unitsPerSquareMile                        0.027270                  0.017630   \n",
       "residentialPermits                       -0.117744                  0.178610   \n",
       "vacantLots                               -0.018643                 -0.232977   \n",
       "vacantHouseNotices                        0.055096                 -0.510731   \n",
       "foreclosureFilings                        1.000000                 -0.400000   \n",
       "medianSalesPrice20092010                 -0.400000                  1.000000   \n",
       "ownerOccupied                            -0.152669                  0.323228   \n",
       "\n",
       "                                ownerOccupied  \n",
       "sales20092010                        0.220415  \n",
       "salesPriceCoefficientVariance       -0.436396  \n",
       "commercialResidentialLandRatio       0.061816  \n",
       "unitsPerSquareMile                  -0.283690  \n",
       "residentialPermits                  -0.178138  \n",
       "vacantLots                          -0.362881  \n",
       "vacantHouseNotices                  -0.509959  \n",
       "foreclosureFilings                  -0.152669  \n",
       "medianSalesPrice20092010             0.323228  \n",
       "ownerOccupied                        1.000000  "
      ]
     },
     "execution_count": 123,
     "metadata": {},
     "output_type": "execute_result"
    }
   ],
   "source": [
    "housingTypologyDF.corr(method='pearson')"
   ]
  },
  {
   "cell_type": "markdown",
   "metadata": {},
   "source": [
    "#### Conduct Principal Component Analysis (PCA) on the dataset"
   ]
  },
  {
   "cell_type": "code",
   "execution_count": 124,
   "metadata": {
    "collapsed": false
   },
   "outputs": [
    {
     "data": {
      "text/plain": [
       "PCA(copy=True, iterated_power='auto', n_components=10, random_state=None,\n",
       "  svd_solver='auto', tol=0.0, whiten=True)"
      ]
     },
     "execution_count": 124,
     "metadata": {},
     "output_type": "execute_result"
    }
   ],
   "source": [
    "scaledDf = housingTypologyDF.drop('marketCategory', axis=1)\n",
    "scaledDf = skl.preprocessing.scale(scaledDf)\n",
    "pca=skl.decomposition.PCA(n_components=10, whiten=True)\n",
    "pca.fit(scaledDf)"
   ]
  },
  {
   "cell_type": "code",
   "execution_count": 125,
   "metadata": {
    "collapsed": false
   },
   "outputs": [
    {
     "data": {
      "text/plain": [
       "array([[-0.20399405,  0.47419637, -0.03921834, -0.00412604,  0.04582208,\n",
       "         0.34598521,  0.47804114,  0.18118131, -0.42556265, -0.40952428],\n",
       "       [ 0.51488113,  0.11186875,  0.19065983,  0.59520969, -0.11433469,\n",
       "        -0.36348006,  0.0033743 ,  0.37607421, -0.17829713, -0.11547217],\n",
       "       [ 0.10514412, -0.04804547,  0.08160751,  0.40773173,  0.62881855,\n",
       "         0.16347026,  0.10922064, -0.4038409 ,  0.34086175, -0.31684815],\n",
       "       [ 0.00537334,  0.04171097,  0.91438122, -0.09129096, -0.17315533,\n",
       "         0.12237636,  0.14230278, -0.2523496 , -0.05021985,  0.14964323],\n",
       "       [ 0.36955634,  0.0540445 ,  0.14238794, -0.36471292,  0.54942831,\n",
       "         0.28148736, -0.11702662,  0.50215179,  0.00771949,  0.24535611],\n",
       "       [-0.62916202, -0.23462873,  0.30179231,  0.11386451,  0.18777902,\n",
       "        -0.14512221, -0.3340888 ,  0.43088922,  0.01240549, -0.30216654],\n",
       "       [ 0.2222451 , -0.3479777 , -0.01043152,  0.08762517, -0.43149244,\n",
       "         0.65745372, -0.16223598,  0.16493152,  0.20044489, -0.33105808],\n",
       "       [ 0.07636096,  0.33576923,  0.07483942, -0.33805698, -0.16163253,\n",
       "        -0.29133602,  0.17633502,  0.17956277,  0.68490507, -0.34367286],\n",
       "       [ 0.20359939, -0.63594191,  0.02099099, -0.34739174,  0.09525278,\n",
       "        -0.28326313,  0.40810953, -0.02146651, -0.25124067, -0.33698125],\n",
       "       [-0.23044818, -0.24970381, -0.04306568,  0.28724005, -0.0302665 ,\n",
       "         0.0939272 ,  0.62450585,  0.31819143,  0.3094985 ,  0.4509979 ]])"
      ]
     },
     "execution_count": 125,
     "metadata": {},
     "output_type": "execute_result"
    }
   ],
   "source": [
    "pca.components_"
   ]
  },
  {
   "cell_type": "code",
   "execution_count": 126,
   "metadata": {
    "collapsed": false,
    "scrolled": true
   },
   "outputs": [
    {
     "data": {
      "text/plain": [
       "[<matplotlib.lines.Line2D at 0x7f5b94350b90>]"
      ]
     },
     "execution_count": 126,
     "metadata": {},
     "output_type": "execute_result"
    },
    {
     "data": {
      "image/png": "[encoded data removed]",
      "text/plain": [
       "<matplotlib.figure.Figure at 0x7f5b944bdbd0>"
      ]
     },
     "metadata": {},
     "output_type": "display_data"
    }
   ],
   "source": [
    "cumulativeVariance = pca.explained_variance_ratio_.cumsum()\n",
    "# print(cumulativeVariance)\n",
    "matplotlib.pyplot.plot(cumulativeVariance * 100)"
   ]
  },
  {
   "cell_type": "markdown",
   "metadata": {},
   "source": [
    "#### Autocorrelation analysis by sorting on certain numeric features (EXPERIMENTAL)"
   ]
  },
  {
   "cell_type": "code",
   "execution_count": 127,
   "metadata": {
    "collapsed": false,
    "scrolled": true
   },
   "outputs": [
    {
     "data": {
      "text/plain": [
       "<matplotlib.axes._subplots.AxesSubplot at 0x7f5b950a3a90>"
      ]
     },
     "execution_count": 127,
     "metadata": {},
     "output_type": "execute_result"
    },
    {
     "data": {
      "image/png": "[encoded data removed]",
      "text/plain": [
       "<matplotlib.figure.Figure at 0x7f5b950c2350>"
      ]
     },
     "metadata": {},
     "output_type": "display_data"
    }
   ],
   "source": [
    "from pandas.tools.plotting import autocorrelation_plot\n",
    "# autocorrelation_plot(housingTypologyDF.sort_values(by='unitsPerSquareMile').medianSalesPrice20092010)\n",
    "# autocorrelation_plot(housingTypologyDF.sort_values(by='marketCategory').medianSalesPrice20092010)\n",
    "autocorrelation_plot(housingTypologyDF.sort_values(by='vacantLots').medianSalesPrice20092010)\n",
    "autocorrelation_plot(housingTypologyDF.sort_values(by='foreclosureFilings').medianSalesPrice20092010)\n",
    "# autocorrelation_plot(housingTypologyDF.sort_values(by='sales20092010').medianSalesPrice20092010)"
   ]
  },
  {
   "cell_type": "markdown",
   "metadata": {
    "collapsed": true
   },
   "source": [
    "## Training a decision tree classifier"
   ]
  },
  {
   "cell_type": "code",
   "execution_count": 128,
   "metadata": {
    "collapsed": false
   },
   "outputs": [
    {
     "name": "stdout",
     "output_type": "stream",
     "text": [
      "[0, 1, 2, 3, 4]\n"
     ]
    },
    {
     "data": {
      "text/plain": [
       "array(['Distressed', 'Middle Market', 'Middle Market Choice',\n",
       "       'Middle Market Stressed', 'Regional Choice'], dtype=object)"
      ]
     },
     "execution_count": 128,
     "metadata": {},
     "output_type": "execute_result"
    }
   ],
   "source": [
    "housingTypologyDF = housingTypologyDF.reindex(np.random.permutation(housingTypologyDF.index))\n",
    "\n",
    "X=housingTypologyDF.copy()\n",
    "X.drop(['marketCategory'], axis=1, inplace=True)\n",
    "X = pd.DataFrame(skl.preprocessing.scale(X), index=X.index, columns=X.columns)\n",
    "\n",
    "le = preprocessing.LabelEncoder()\n",
    "Y = le.fit_transform(housingTypologyDF['marketCategory'])\n",
    "encodeValues = sorted(pd.unique(Y).tolist())\n",
    "print(encodeValues)\n",
    "le.inverse_transform(encodeValues)"
   ]
  },
  {
   "cell_type": "code",
   "execution_count": 129,
   "metadata": {
    "collapsed": false
   },
   "outputs": [],
   "source": [
    "labelMap = {\n",
    "    'Low Sales':0,\n",
    "    'Distressed':1, \n",
    "    'Middle Market Stressed':2, \n",
    "    'Middle Market':3, \n",
    "    'Middle Market Choice':4,\n",
    "    'Regional Choice':5}\n",
    "\n",
    "Y=housingTypologyDF['marketCategory']\n",
    "Y=Y.astype(str)\n",
    "for label, val in labelMap.iteritems():\n",
    "    Y[Y==label]=val\n",
    "Y=Y.astype(int)"
   ]
  },
  {
   "cell_type": "code",
   "execution_count": 130,
   "metadata": {
    "collapsed": false
   },
   "outputs": [
    {
     "name": "stdout",
     "output_type": "stream",
     "text": [
      "Accuracy: 0.96 (+/- 0.12)\n"
     ]
    }
   ],
   "source": [
    "dt = skl.tree.DecisionTreeClassifier()\n",
    "dt.fit(X.values, Y)\n",
    "\n",
    "with open(\"../out/dt.dot\", 'w') as f:\n",
    "    skl.tree.export_graphviz(dt, out_file=f, feature_names=X.columns)\n",
    "    \n",
    "scores = skl.cross_validation.cross_val_score(dt, X, Y, cv = 50)\n",
    "print(\"Accuracy: %0.2f (+/- %0.2f)\" % (scores.mean(), scores.std() * 2))"
   ]
  },
  {
   "cell_type": "code",
   "execution_count": 131,
   "metadata": {
    "collapsed": false
   },
   "outputs": [
    {
     "data": {
      "text/plain": [
       "array([ 0.01429872,  0.00308668,  0.        ,  0.01300937,  0.00308668,\n",
       "        0.00718355,  0.02018455,  0.        ,  0.92966174,  0.00948869])"
      ]
     },
     "execution_count": 131,
     "metadata": {},
     "output_type": "execute_result"
    }
   ],
   "source": [
    "dt.feature_importances_"
   ]
  },
  {
   "cell_type": "code",
   "execution_count": 132,
   "metadata": {
    "collapsed": false
   },
   "outputs": [
    {
     "data": {
      "text/plain": [
       "array([[209,   0,   0,   0,   0],\n",
       "       [  0, 114,   0,   0,   0],\n",
       "       [  0,   0,  92,   0,   0],\n",
       "       [  0,   0,   0, 117,   0],\n",
       "       [  0,   0,   0,   0,  94]])"
      ]
     },
     "execution_count": 132,
     "metadata": {},
     "output_type": "execute_result"
    }
   ],
   "source": [
    "skl.metrics.confusion_matrix(Y, dt.predict(X))"
   ]
  },
  {
   "cell_type": "code",
   "execution_count": 133,
   "metadata": {
    "collapsed": false
   },
   "outputs": [
    {
     "data": {
      "text/plain": [
       "Index([u'sales20092010', u'salesPriceCoefficientVariance ',\n",
       "       u'commercialResidentialLandRatio', u'unitsPerSquareMile',\n",
       "       u'residentialPermits', u'vacantLots', u'vacantHouseNotices',\n",
       "       u'foreclosureFilings', u'medianSalesPrice20092010', u'ownerOccupied'],\n",
       "      dtype='object')"
      ]
     },
     "execution_count": 133,
     "metadata": {},
     "output_type": "execute_result"
    }
   ],
   "source": [
    "X.columns"
   ]
  },
  {
   "cell_type": "markdown",
   "metadata": {},
   "source": [
    "### Training Decision Tree Classifier w/ Modified Best Predictors"
   ]
  },
  {
   "cell_type": "code",
   "execution_count": 134,
   "metadata": {
    "collapsed": true
   },
   "outputs": [],
   "source": [
    "unitsPerSale = housingTypologyDF.unitsPerSquareMile.divide(housingTypologyDF.sales20092010)\n",
    "unitsPerSale[pd.isnull(unitsPerSale)]=-1\n",
    "unitsPerSale[unitsPerSale==np.Inf]=-1\n",
    "unitsPerSale=pd.DataFrame(unitsPerSale)"
   ]
  },
  {
   "cell_type": "code",
   "execution_count": 135,
   "metadata": {
    "collapsed": false
   },
   "outputs": [],
   "source": [
    "scaler = skl.preprocessing.MinMaxScaler(feature_range=(0,10))\n",
    "scaledUnitsPerSale = scaler.fit_transform(unitsPerSale.values.reshape(-1,1))\n",
    "scaledUnitsPerSale=pd.DataFrame(scaledUnitsPerSale, \n",
    "                              index = unitsPerSale.index)\n",
    "scaledSalesPrice = scaler.fit_transform(housingTypologyDF.medianSalesPrice20092010.values.reshape(-1,1))\n",
    "scaledSalesPrice=pd.DataFrame(scaledSalesPrice, \n",
    "                              index = housingTypologyDF.medianSalesPrice20092010.index)\n",
    "\n",
    "# scaledVacantLots = scaler.fit_transform(housingTypologyDF.vacantLots.values.reshape(-1,1))\n",
    "# scaledVacantLots = pd.DataFrame(scaledVacantLots, \n",
    "#                                index=housingTypologyDF.vacantLots.index)\n",
    "\n",
    "scaledVacantHouseNotices = scaler.fit_transform(housingTypologyDF.vacantHouseNotices.values.reshape(-1,1))\n",
    "scaledVacantHouseNotices = pd.DataFrame(scaledVacantHouseNotices, \n",
    "                               index=housingTypologyDF.vacantHouseNotices.index)"
   ]
  },
  {
   "cell_type": "code",
   "execution_count": 136,
   "metadata": {
    "collapsed": false
   },
   "outputs": [],
   "source": [
    "# X_prime = pd.concat([unitsPerSale, housingTypologyDF.medianSalesPrice20092010 ], axis=1)\n",
    "X_prime = pd.concat([scaledUnitsPerSale, scaledSalesPrice], axis=1)\n",
    "X_prime.columns = ['unitsPerSale', 'medianSalesPrice']\n",
    "# X_prime = pd.concat([scaledUnitsPerSale, scaledSalesPrice, scaledVacantHouseNotices], axis=1)\n",
    "# X_prime.columns = ['unitsPerSale', 'medianSalesPrice', 'vacantHouseNotices']\n",
    "X_prime.unitsPerSale.replace(np.Inf, np.nan, inplace=True)\n",
    "X_prime.unitsPerSale.fillna(value='-1', inplace=True)\n",
    "\n",
    "X_prime.medianSalesPrice.replace(np.Inf, np.nan, inplace=True)\n",
    "X_prime.medianSalesPrice.fillna(value='-1', inplace=True)"
   ]
  },
  {
   "cell_type": "code",
   "execution_count": 137,
   "metadata": {
    "collapsed": false
   },
   "outputs": [
    {
     "data": {
      "text/html": [
       "<div>\n",
       "<table border=\"1\" class=\"dataframe\">\n",
       "  <thead>\n",
       "    <tr style=\"text-align: right;\">\n",
       "      <th></th>\n",
       "      <th>unitsPerSale</th>\n",
       "      <th>medianSalesPrice</th>\n",
       "    </tr>\n",
       "  </thead>\n",
       "  <tbody>\n",
       "    <tr>\n",
       "      <th>216</th>\n",
       "      <td>1.562157</td>\n",
       "      <td>0.222638</td>\n",
       "    </tr>\n",
       "    <tr>\n",
       "      <th>247</th>\n",
       "      <td>0.544988</td>\n",
       "      <td>0.170006</td>\n",
       "    </tr>\n",
       "    <tr>\n",
       "      <th>525</th>\n",
       "      <td>0.579497</td>\n",
       "      <td>2.139753</td>\n",
       "    </tr>\n",
       "    <tr>\n",
       "      <th>540</th>\n",
       "      <td>0.667492</td>\n",
       "      <td>1.542582</td>\n",
       "    </tr>\n",
       "    <tr>\n",
       "      <th>105</th>\n",
       "      <td>2.788096</td>\n",
       "      <td>0.629346</td>\n",
       "    </tr>\n",
       "  </tbody>\n",
       "</table>\n",
       "</div>"
      ],
      "text/plain": [
       "     unitsPerSale  medianSalesPrice\n",
       "216      1.562157          0.222638\n",
       "247      0.544988          0.170006\n",
       "525      0.579497          2.139753\n",
       "540      0.667492          1.542582\n",
       "105      2.788096          0.629346"
      ]
     },
     "execution_count": 137,
     "metadata": {},
     "output_type": "execute_result"
    }
   ],
   "source": [
    "X_prime.head()"
   ]
  },
  {
   "cell_type": "code",
   "execution_count": 138,
   "metadata": {
    "collapsed": false
   },
   "outputs": [
    {
     "name": "stdout",
     "output_type": "stream",
     "text": [
      "Accuracy: 0.94 (+/- 0.05)\n"
     ]
    }
   ],
   "source": [
    "dt_prime = skl.tree.DecisionTreeClassifier()\n",
    "dt_prime.fit(X_prime.values, Y)\n",
    "\n",
    "with open(\"dt.dot\", 'w') as f:\n",
    "    skl.tree.export_graphviz(dt_prime, out_file=f, feature_names=X_prime.columns)\n",
    "    \n",
    "scores = skl.cross_validation.cross_val_score(dt_prime, X_prime, Y, cv = 10)\n",
    "print(\"Accuracy: %0.2f (+/- %0.2f)\" % (scores.mean(), scores.std() * 2))"
   ]
  },
  {
   "cell_type": "code",
   "execution_count": 139,
   "metadata": {
    "collapsed": false
   },
   "outputs": [
    {
     "data": {
      "text/plain": [
       "array([[209,   0,   0,   0,   0],\n",
       "       [  0, 114,   0,   0,   0],\n",
       "       [  0,   0,  92,   0,   0],\n",
       "       [  0,   0,   0, 117,   0],\n",
       "       [  0,   0,   0,   0,  94]])"
      ]
     },
     "execution_count": 139,
     "metadata": {},
     "output_type": "execute_result"
    }
   ],
   "source": [
    "skl.metrics.confusion_matrix(Y, dt_prime.predict(X_prime))"
   ]
  },
  {
   "cell_type": "code",
   "execution_count": 39,
   "metadata": {
    "collapsed": true
   },
   "outputs": [],
   "source": [
    "pickle.dump(dt_prime, open('../models/housing_market_typology_decisionTree.model','wb'))"
   ]
  },
  {
   "cell_type": "code",
   "execution_count": 40,
   "metadata": {
    "collapsed": false
   },
   "outputs": [
    {
     "data": {
      "text/plain": [
       "1    209\n",
       "4    117\n",
       "2    114\n",
       "5     94\n",
       "3     92\n",
       "Name: marketCategory, dtype: int64"
      ]
     },
     "execution_count": 40,
     "metadata": {},
     "output_type": "execute_result"
    }
   ],
   "source": [
    "pd.DataFrame(Y).marketCategory.value_counts()"
   ]
  },
  {
   "cell_type": "code",
   "execution_count": 41,
   "metadata": {
    "collapsed": false
   },
   "outputs": [
    {
     "data": {
      "text/plain": [
       "array([ 0.03918314,  0.96081686])"
      ]
     },
     "execution_count": 41,
     "metadata": {},
     "output_type": "execute_result"
    }
   ],
   "source": [
    "dt_prime.feature_importances_"
   ]
  },
  {
   "cell_type": "code",
   "execution_count": 42,
   "metadata": {
    "collapsed": false
   },
   "outputs": [
    {
     "data": {
      "text/plain": [
       "MLPClassifier(activation='relu', alpha=1e-05, batch_size='auto', beta_1=0.9,\n",
       "       beta_2=0.999, early_stopping=False, epsilon=1e-08,\n",
       "       hidden_layer_sizes=(5, 2), learning_rate='constant',\n",
       "       learning_rate_init=0.001, max_iter=200, momentum=0.9,\n",
       "       nesterovs_momentum=True, power_t=0.5, random_state=1, shuffle=True,\n",
       "       solver='lbfgs', tol=0.0001, validation_fraction=0.1, verbose=False,\n",
       "       warm_start=False)"
      ]
     },
     "execution_count": 42,
     "metadata": {},
     "output_type": "execute_result"
    }
   ],
   "source": [
    "from sklearn.neural_network import MLPClassifier\n",
    "clf = MLPClassifier(solver='lbfgs', alpha=1e-5, hidden_layer_sizes=(5, 2), random_state=1)\n",
    "clf.fit(X_prime.values, Y)"
   ]
  },
  {
   "cell_type": "code",
   "execution_count": 102,
   "metadata": {
    "collapsed": true
   },
   "outputs": [],
   "source": [
    "def displayCorrelationMatrix(corrMtx, figSize=(8,8)):\n",
    "    corrMtx=np.absolute(corrMtx)\n",
    "    mask =  np.tri(corrMtx.shape[0], k=-1)\n",
    "    masked = np.ma.array(corrMtx, mask=mask)\n",
    "\n",
    "    fig = matplotlib.pyplot.figure(figsize=figSize, dpi=80)\n",
    "    ax = fig.add_subplot(111)\n",
    "    cmap = matplotlib.cm.get_cmap(name='gray_r')\n",
    "    cmap.set_bad('w')\n",
    "    cax=ax.imshow(masked.transpose(), interpolation=\"nearest\", cmap=cmap)\n",
    "\n",
    "    \n",
    "    fig.colorbar(cax, shrink=.6, aspect=20)\n",
    "#     fig.colorbar(cax)\n",
    "\n",
    "    ax.xaxis.tick_bottom()\n",
    "    ax.yaxis.tick_left()\n",
    "    ax.set_xticks(np.arange(len(corrMtx.columns)))\n",
    "    ax.set_yticks(np.arange(len(corrMtx.columns)))\n",
    "    ax.set_xticklabels(corrMtx.columns, rotation=90)\n",
    "    ax.set_yticklabels(corrMtx.columns)\n",
    "#     matplotlib.pyplot.tight_layout()\n",
    "    matplotlib.pyplot.savefig('../doc/Project Report/vacant_house_notices_corr.png')"
   ]
  },
  {
   "cell_type": "code",
   "execution_count": 103,
   "metadata": {
    "collapsed": false
   },
   "outputs": [
    {
     "data": {
      "image/png": "[encoded data removed]",
      "text/plain": [
       "<matplotlib.figure.Figure at 0x7f5b94486850>"
      ]
     },
     "metadata": {},
     "output_type": "display_data"
    }
   ],
   "source": [
    "dfExcerpt = housingTypologyDF.loc[:,['medianSalesPrice20092010','sales20092010','unitsPerSquareMile', 'vacantHouseNotices', 'vacantLots']]\n",
    "# dfExcerpt = pd.DataFrame(skl.preprocessing.scale(dfExcerpt), index=dfExcerpt.index, columns=dfExcerpt.columns)\n",
    "dfExcerpt = pd.DataFrame(skl.preprocessing.scale(dfExcerpt), index=dfExcerpt.index, columns=['1','4','3','2', '5'])\n",
    "displayCorrelationMatrix(dfExcerpt.corr(method='pearson'), figSize=(3,3))"
   ]
  },
  {
   "cell_type": "code",
   "execution_count": null,
   "metadata": {
    "collapsed": true
   },
   "outputs": [],
   "source": []
  }
 ],
 "metadata": {
  "kernelspec": {
   "display_name": "Python 2",
   "language": "python",
   "name": "python2"
  },
  "language_info": {
   "codemirror_mode": {
    "name": "ipython",
    "version": 2
   },
   "file_extension": ".py",
   "mimetype": "text/x-python",
   "name": "python",
   "nbconvert_exporter": "python",
   "pygments_lexer": "ipython2",
   "version": "2.7.12"
  }
 },
 "nbformat": 4,
 "nbformat_minor": 1
}
